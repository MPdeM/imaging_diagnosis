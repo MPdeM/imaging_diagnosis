{
  "nbformat": 4,
  "nbformat_minor": 0,
  "metadata": {
    "anaconda-cloud": {},
    "celltoolbar": "Slideshow",
    "kernelspec": {
      "display_name": "Python 3",
      "language": "python",
      "name": "python3"
    },
    "language_info": {
      "codemirror_mode": {
        "name": "ipython",
        "version": 3
      },
      "file_extension": ".py",
      "mimetype": "text/x-python",
      "name": "python",
      "nbconvert_exporter": "python",
      "pygments_lexer": "ipython3",
      "version": "3.7.3"
    },
    "varInspector": {
      "cols": {
        "lenName": 16,
        "lenType": 16,
        "lenVar": 40
      },
      "kernels_config": {
        "python": {
          "delete_cmd_postfix": "",
          "delete_cmd_prefix": "del ",
          "library": "var_list.py",
          "varRefreshCmd": "print(var_dic_list())"
        },
        "r": {
          "delete_cmd_postfix": ") ",
          "delete_cmd_prefix": "rm(",
          "library": "var_list.r",
          "varRefreshCmd": "cat(var_dic_list()) "
        }
      },
      "types_to_exclude": [
        "module",
        "function",
        "builtin_function_or_method",
        "instance",
        "_Feature"
      ],
      "window_display": false
    },
    "colab": {
      "name": "BuildModel.ipynb",
      "provenance": [],
      "collapsed_sections": [
        "SGgpOH47g1wJ",
        "ddNhKMfOg1wN",
        "Kw6ZbrU_g1wQ",
        "HSwhyl0ig1wa",
        "58t0ck6ng1wf",
        "ZNdDQ9qXg1wg",
        "D9I5_7Nug1wi",
        "vQQGutleg1wl",
        "irlCPCjpg1wn",
        "dSiOrEc-g1wq",
        "2YC7HpoHg1wu",
        "dMit19VEg1wx",
        "fh7Z-S9Kg1w0",
        "Zoltgj3Og1w3",
        "BvmhdDOYg1w9",
        "6eihugCCg1xB"
      ]
    }
  },
  "cells": [
    {
      "cell_type": "markdown",
      "metadata": {
        "id": "64bCUGyrg1vZ",
        "colab_type": "text"
      },
      "source": [
        "## Dependencies"
      ]
    },
    {
      "cell_type": "code",
      "metadata": {
        "id": "M4rIagcxg1va",
        "colab_type": "code",
        "colab": {
          "base_uri": "https://localhost:8080/",
          "height": 34
        },
        "outputId": "5652294e-e12b-44b1-a009-bf0ddf820460"
      },
      "source": [
        "!pip install imutils\n"
      ],
      "execution_count": 2,
      "outputs": [
        {
          "output_type": "stream",
          "text": [
            "Requirement already satisfied: imutils in /usr/local/lib/python3.6/dist-packages (0.5.3)\n"
          ],
          "name": "stdout"
        }
      ]
    },
    {
      "cell_type": "code",
      "metadata": {
        "id": "vHb43O44g1vf",
        "colab_type": "code",
        "colab": {}
      },
      "source": [
        "# Dependencies to Visualize the model\n",
        "%matplotlib inline\n",
        "from IPython.display import Image, SVG\n",
        "import matplotlib.pyplot as plt\n",
        "import numpy as np\n",
        "\n",
        "import pandas as pd \n",
        "import random\n",
        "import cv2\n",
        "\n",
        "np.random.seed(0) \n",
        "\n",
        "# seed = 232\n",
        "# np.random.seed(seed)\n",
        "# tf.set_random_seed(seed)"
      ],
      "execution_count": 0,
      "outputs": []
    },
    {
      "cell_type": "code",
      "metadata": {
        "id": "TsboKHBTg1vj",
        "colab_type": "code",
        "colab": {}
      },
      "source": [
        ""
      ],
      "execution_count": 0,
      "outputs": []
    },
    {
      "cell_type": "code",
      "metadata": {
        "id": "letvmWlQg1vn",
        "colab_type": "code",
        "colab": {}
      },
      "source": [
        "# Filepaths, numpy, and Tensorflow\n",
        "import os\n",
        "import numpy as np\n",
        "import tensorflow as tf"
      ],
      "execution_count": 0,
      "outputs": []
    },
    {
      "cell_type": "code",
      "metadata": {
        "id": "v1lGah3xg1vq",
        "colab_type": "code",
        "colab": {}
      },
      "source": [
        "# Sklearn scaling\n",
        "from sklearn.preprocessing import MinMaxScaler"
      ],
      "execution_count": 0,
      "outputs": []
    },
    {
      "cell_type": "markdown",
      "metadata": {
        "id": "VNH7JP_rg1vu",
        "colab_type": "text"
      },
      "source": [
        "### Keras Specific Dependencies"
      ]
    },
    {
      "cell_type": "code",
      "metadata": {
        "id": "mTsZVNSug1vv",
        "colab_type": "code",
        "colab": {
          "base_uri": "https://localhost:8080/",
          "height": 34
        },
        "outputId": "2788e830-23ad-4b4c-ce0f-59cd084d72cb"
      },
      "source": [
        "# Keras\n",
        "# from tensorflow import keras\n",
        "# from tensorflow.keras.models import Sequential\n",
        "# from tensorflow.keras.utils import to_categorical\n",
        "# from tensorflow.keras.layers import Dense\n",
        "# from tensorflow.keras.datasets import mnist\n",
        "\n",
        "import keras.backend as K\n",
        "from keras.models import Model, Sequential\n",
        "from keras.layers import Input, Dense, Flatten, Dropout, BatchNormalization\n",
        "from keras.layers import Conv2D, SeparableConv2D, MaxPool2D, LeakyReLU, Activation\n",
        "from keras.optimizers import Adam\n",
        "from keras.preprocessing.image import ImageDataGenerator\n",
        "from keras.callbacks import ModelCheckpoint, ReduceLROnPlateau, EarlyStopping\n"
      ],
      "execution_count": 6,
      "outputs": [
        {
          "output_type": "stream",
          "text": [
            "Using TensorFlow backend.\n"
          ],
          "name": "stderr"
        }
      ]
    },
    {
      "cell_type": "code",
      "metadata": {
        "id": "ehR7DZFGg1vz",
        "colab_type": "code",
        "colab": {}
      },
      "source": [
        "covid_dataset_path = 'https://data-imaging.s3.amazonaws.com/covid-chest-xray'"
      ],
      "execution_count": 0,
      "outputs": []
    },
    {
      "cell_type": "code",
      "metadata": {
        "id": "STvhzg5Ng1v2",
        "colab_type": "code",
        "colab": {}
      },
      "source": [
        "samples = 25"
      ],
      "execution_count": 0,
      "outputs": []
    },
    {
      "cell_type": "code",
      "metadata": {
        "scrolled": true,
        "id": "iwzbB6uDg1v6",
        "colab_type": "code",
        "colab": {
          "base_uri": "https://localhost:8080/",
          "height": 394
        },
        "outputId": "6abd6ed3-c53e-4940-eeff-4ad9b272dce3"
      },
      "source": [
        "# construct the path to the metadata CSV file and load it\n",
        "csvPath = \"https://data-imaging.s3.amazonaws.com/covid-chest-xray/metadata.csv\"\n",
        "df = pd.read_csv(csvPath)\n",
        "df.head()\n",
        "\n",
        "# https://data-imaging.s3.amazonaws.com/covid-chest-xray/metadata.csv\n"
      ],
      "execution_count": 9,
      "outputs": [
        {
          "output_type": "execute_result",
          "data": {
            "text/html": [
              "<div>\n",
              "<style scoped>\n",
              "    .dataframe tbody tr th:only-of-type {\n",
              "        vertical-align: middle;\n",
              "    }\n",
              "\n",
              "    .dataframe tbody tr th {\n",
              "        vertical-align: top;\n",
              "    }\n",
              "\n",
              "    .dataframe thead th {\n",
              "        text-align: right;\n",
              "    }\n",
              "</style>\n",
              "<table border=\"1\" class=\"dataframe\">\n",
              "  <thead>\n",
              "    <tr style=\"text-align: right;\">\n",
              "      <th></th>\n",
              "      <th>Patientid</th>\n",
              "      <th>offset</th>\n",
              "      <th>sex</th>\n",
              "      <th>age</th>\n",
              "      <th>finding</th>\n",
              "      <th>survival</th>\n",
              "      <th>view</th>\n",
              "      <th>modality</th>\n",
              "      <th>date</th>\n",
              "      <th>location</th>\n",
              "      <th>filename</th>\n",
              "      <th>doi</th>\n",
              "      <th>url</th>\n",
              "      <th>license</th>\n",
              "      <th>clinical notes</th>\n",
              "      <th>other notes</th>\n",
              "      <th>Unnamed: 16</th>\n",
              "    </tr>\n",
              "  </thead>\n",
              "  <tbody>\n",
              "    <tr>\n",
              "      <th>0</th>\n",
              "      <td>2</td>\n",
              "      <td>0.0</td>\n",
              "      <td>M</td>\n",
              "      <td>65.0</td>\n",
              "      <td>COVID-19</td>\n",
              "      <td>Y</td>\n",
              "      <td>PA</td>\n",
              "      <td>X-ray</td>\n",
              "      <td>2020</td>\n",
              "      <td>NaN</td>\n",
              "      <td>auntminnie-a-2020_01_28_23_51_6665_2020_01_28_...</td>\n",
              "      <td>10.1056/nejmc2001272</td>\n",
              "      <td>https://www.nejm.org/doi/full/10.1056/NEJMc200...</td>\n",
              "      <td>NaN</td>\n",
              "      <td>NaN</td>\n",
              "      <td>NaN</td>\n",
              "      <td>NaN</td>\n",
              "    </tr>\n",
              "    <tr>\n",
              "      <th>1</th>\n",
              "      <td>2</td>\n",
              "      <td>3.0</td>\n",
              "      <td>M</td>\n",
              "      <td>65.0</td>\n",
              "      <td>COVID-19</td>\n",
              "      <td>Y</td>\n",
              "      <td>PA</td>\n",
              "      <td>X-ray</td>\n",
              "      <td>2020</td>\n",
              "      <td>NaN</td>\n",
              "      <td>auntminnie-b-2020_01_28_23_51_6665_2020_01_28_...</td>\n",
              "      <td>10.1056/nejmc2001272</td>\n",
              "      <td>https://www.nejm.org/doi/full/10.1056/NEJMc200...</td>\n",
              "      <td>NaN</td>\n",
              "      <td>NaN</td>\n",
              "      <td>NaN</td>\n",
              "      <td>NaN</td>\n",
              "    </tr>\n",
              "    <tr>\n",
              "      <th>2</th>\n",
              "      <td>2</td>\n",
              "      <td>5.0</td>\n",
              "      <td>M</td>\n",
              "      <td>65.0</td>\n",
              "      <td>COVID-19</td>\n",
              "      <td>Y</td>\n",
              "      <td>PA</td>\n",
              "      <td>X-ray</td>\n",
              "      <td>2020</td>\n",
              "      <td>NaN</td>\n",
              "      <td>auntminnie-c-2020_01_28_23_51_6665_2020_01_28_...</td>\n",
              "      <td>10.1056/nejmc2001272</td>\n",
              "      <td>https://www.nejm.org/doi/full/10.1056/NEJMc200...</td>\n",
              "      <td>NaN</td>\n",
              "      <td>NaN</td>\n",
              "      <td>NaN</td>\n",
              "      <td>NaN</td>\n",
              "    </tr>\n",
              "    <tr>\n",
              "      <th>3</th>\n",
              "      <td>2</td>\n",
              "      <td>6.0</td>\n",
              "      <td>M</td>\n",
              "      <td>65.0</td>\n",
              "      <td>COVID-19</td>\n",
              "      <td>Y</td>\n",
              "      <td>PA</td>\n",
              "      <td>X-ray</td>\n",
              "      <td>2020</td>\n",
              "      <td>NaN</td>\n",
              "      <td>auntminnie-d-2020_01_28_23_51_6665_2020_01_28_...</td>\n",
              "      <td>10.1056/nejmc2001272</td>\n",
              "      <td>https://www.nejm.org/doi/full/10.1056/NEJMc200...</td>\n",
              "      <td>NaN</td>\n",
              "      <td>NaN</td>\n",
              "      <td>NaN</td>\n",
              "      <td>NaN</td>\n",
              "    </tr>\n",
              "    <tr>\n",
              "      <th>4</th>\n",
              "      <td>4</td>\n",
              "      <td>0.0</td>\n",
              "      <td>F</td>\n",
              "      <td>52.0</td>\n",
              "      <td>COVID-19</td>\n",
              "      <td>NaN</td>\n",
              "      <td>PA</td>\n",
              "      <td>X-ray</td>\n",
              "      <td>2020</td>\n",
              "      <td>Changhua Christian Hospital, Changhua City, Ta...</td>\n",
              "      <td>nejmc2001573_f1a.jpeg</td>\n",
              "      <td>10.1056/NEJMc2001573</td>\n",
              "      <td>https://www.nejm.org/doi/full/10.1056/NEJMc200...</td>\n",
              "      <td>NaN</td>\n",
              "      <td>diffuse infiltrates in the bilateral lower lungs</td>\n",
              "      <td>NaN</td>\n",
              "      <td>NaN</td>\n",
              "    </tr>\n",
              "  </tbody>\n",
              "</table>\n",
              "</div>"
            ],
            "text/plain": [
              "   Patientid  offset  ... other notes  Unnamed: 16\n",
              "0          2     0.0  ...         NaN          NaN\n",
              "1          2     3.0  ...         NaN          NaN\n",
              "2          2     5.0  ...         NaN          NaN\n",
              "3          2     6.0  ...         NaN          NaN\n",
              "4          4     0.0  ...         NaN          NaN\n",
              "\n",
              "[5 rows x 17 columns]"
            ]
          },
          "metadata": {
            "tags": []
          },
          "execution_count": 9
        }
      ]
    },
    {
      "cell_type": "code",
      "metadata": {
        "id": "ZcPE0ri4g1v9",
        "colab_type": "code",
        "colab": {
          "base_uri": "https://localhost:8080/",
          "height": 85
        },
        "outputId": "a14045b3-94ce-4d49-806c-6f64e8625197"
      },
      "source": [
        "print(df.columns)"
      ],
      "execution_count": 10,
      "outputs": [
        {
          "output_type": "stream",
          "text": [
            "Index(['Patientid', 'offset', 'sex', 'age', 'finding', 'survival', 'view',\n",
            "       'modality', 'date', 'location', 'filename', 'doi', ' url', 'license',\n",
            "       'clinical notes', 'other notes', 'Unnamed: 16'],\n",
            "      dtype='object')\n"
          ],
          "name": "stdout"
        }
      ]
    },
    {
      "cell_type": "code",
      "metadata": {
        "id": "pB_ug6Be4bKH",
        "colab_type": "code",
        "colab": {
          "base_uri": "https://localhost:8080/",
          "height": 591
        },
        "outputId": "629cae3f-6f61-4bc0-ffa6-6a3a86235989"
      },
      "source": [
        "# Finding distribution (nan if unknown)\n",
        "ax = df['finding'].value_counts(dropna=False).plot.pie(y='Finding',\n",
        "                                                       legend = True,\n",
        "                                                       autopct='%2.0f%%',\n",
        "                                                       figsize = (10,10),\n",
        "                                                       title = 'Finding Distribution')"
      ],
      "execution_count": 13,
      "outputs": [
        {
          "output_type": "display_data",
          "data": {
            "image/png": "[encoded data removed]",
            "text/plain": [
              "<Figure size 720x720 with 1 Axes>"
            ]
          },
          "metadata": {
            "tags": []
          }
        }
      ]
    },
    {
      "cell_type": "code",
      "metadata": {
        "id": "65XLRsIn4bhR",
        "colab_type": "code",
        "colab": {
          "base_uri": "https://localhost:8080/",
          "height": 319
        },
        "outputId": "a4699c0f-faca-423e-f29c-2406bbb53052"
      },
      "source": [
        "\n",
        "# Sex distribution (nan if unknown)\n",
        "ax = df['sex'].value_counts(dropna=False).plot.pie(y='sex',\n",
        "                                                    legend = True,\n",
        "                                                    autopct='%2.0f%%',\n",
        "                                                    figsize = (5,5),\n",
        "                                                    title = 'Sex Distribution')"
      ],
      "execution_count": 15,
      "outputs": [
        {
          "output_type": "display_data",
          "data": {
            "image/png": "[encoded data removed]",
            "text/plain": [
              "<Figure size 360x360 with 1 Axes>"
            ]
          },
          "metadata": {
            "tags": []
          }
        }
      ]
    },
    {
      "cell_type": "code",
      "metadata": {
        "id": "kMAkUYyk4bth",
        "colab_type": "code",
        "colab": {
          "base_uri": "https://localhost:8080/",
          "height": 390
        },
        "outputId": "24affd91-c449-48eb-ebd1-f531aea5f891"
      },
      "source": [
        "# Now age (nan in unknown)\n",
        "out = pd.cut(df['age'], bins=np.arange(0,110,10).tolist(), include_lowest=True)\n",
        "ax = out.value_counts(sort=False, dropna=False).plot.bar(rot=0, color=\"b\", figsize=(15,6), title= \"Age Distribution\")\n",
        "#ax.set_xticklabels([c[1:-1].replace(\",\",\" to\") for c in out.cat.categories])\n",
        "plt.show()"
      ],
      "execution_count": 22,
      "outputs": [
        {
          "output_type": "display_data",
          "data": {
            "image/png": "[encoded data removed]",
            "text/plain": [
              "<Figure size 1080x432 with 1 Axes>"
            ]
          },
          "metadata": {
            "tags": [],
            "needs_background": "light"
          }
        }
      ]
    },
    {
      "cell_type": "code",
      "metadata": {
        "id": "gg9EZWaI4b5b",
        "colab_type": "code",
        "colab": {
          "base_uri": "https://localhost:8080/",
          "height": 319
        },
        "outputId": "fd5443a6-bdd0-496b-9c2d-4ff3aaa28ffc"
      },
      "source": [
        "# Survival \n",
        "ax = df['survival'].value_counts(dropna=False).plot.pie(y='survival',\n",
        "                                                        legend = True,\n",
        "                                                        autopct='%2.0f%%',\n",
        "                                                        figsize = (5,5),\n",
        "                                                        title = 'Survival Distribution')"
      ],
      "execution_count": 17,
      "outputs": [
        {
          "output_type": "display_data",
          "data": {
            "image/png": "[encoded data removed]",
            "text/plain": [
              "<Figure size 360x360 with 1 Axes>"
            ]
          },
          "metadata": {
            "tags": []
          }
        }
      ]
    },
    {
      "cell_type": "code",
      "metadata": {
        "id": "greFrZny59G_",
        "colab_type": "code",
        "colab": {}
      },
      "source": [
        "# loop over the rows of the COVID-19 data frame\n",
        "for (i, row) in df.iterrows():\n",
        "    # if (1) the current case is not COVID-19 or (2) this is not\n",
        "    # a 'PA' view, then ignore the row\n",
        "    if row[\"finding\"] != \"COVID-19\" or row[\"view\"] != \"PA\":\n",
        "        continue"
      ],
      "execution_count": 0,
      "outputs": []
    },
    {
      "cell_type": "code",
      "metadata": {
        "id": "OEDuZU6_59NT",
        "colab_type": "code",
        "colab": {}
      },
      "source": [
        ""
      ],
      "execution_count": 0,
      "outputs": []
    },
    {
      "cell_type": "code",
      "metadata": {
        "id": "88ACOYUl59TO",
        "colab_type": "code",
        "colab": {}
      },
      "source": [
        ""
      ],
      "execution_count": 0,
      "outputs": []
    },
    {
      "cell_type": "code",
      "metadata": {
        "id": "_2UNv7zR59dI",
        "colab_type": "code",
        "colab": {}
      },
      "source": [
        ""
      ],
      "execution_count": 0,
      "outputs": []
    },
    {
      "cell_type": "code",
      "metadata": {
        "id": "8d7eTJxN59gS",
        "colab_type": "code",
        "colab": {}
      },
      "source": [
        ""
      ],
      "execution_count": 0,
      "outputs": []
    },
    {
      "cell_type": "code",
      "metadata": {
        "id": "4BRwyE6Y59cN",
        "colab_type": "code",
        "colab": {}
      },
      "source": [
        ""
      ],
      "execution_count": 0,
      "outputs": []
    },
    {
      "cell_type": "code",
      "metadata": {
        "id": "7vk_0eKF59ZR",
        "colab_type": "code",
        "colab": {}
      },
      "source": [
        ""
      ],
      "execution_count": 0,
      "outputs": []
    },
    {
      "cell_type": "code",
      "metadata": {
        "id": "SZsIvhc859RK",
        "colab_type": "code",
        "colab": {}
      },
      "source": [
        ""
      ],
      "execution_count": 0,
      "outputs": []
    },
    {
      "cell_type": "markdown",
      "metadata": {
        "id": "lhc5K8JQg1wA",
        "colab_type": "text"
      },
      "source": [
        "### Load the MNIST Handwriting Dataset from Keras"
      ]
    },
    {
      "cell_type": "code",
      "metadata": {
        "id": "DQCKc5Akg1wA",
        "colab_type": "code",
        "colab": {},
        "outputId": "d3849246-4c0a-4f53-b2da-95c46da74051"
      },
      "source": [
        "(X_train, y_train), (X_test, y_test) = mnist.load_data()\n",
        "print(\"Training Data Info\")\n",
        "print(\"Training Data Shape:\", X_train.shape)\n",
        "print(\"Training Data Labels Shape:\", y_train.shape)"
      ],
      "execution_count": 0,
      "outputs": [
        {
          "output_type": "stream",
          "text": [
            "Training Data Info\n",
            "Training Data Shape: (60000, 28, 28)\n",
            "Training Data Labels Shape: (60000,)\n"
          ],
          "name": "stdout"
        }
      ]
    },
    {
      "cell_type": "markdown",
      "metadata": {
        "id": "_AtsIZ_sg1wE",
        "colab_type": "text"
      },
      "source": [
        "### Plot the first digit"
      ]
    },
    {
      "cell_type": "code",
      "metadata": {
        "id": "2SPa1Cemg1wE",
        "colab_type": "code",
        "colab": {},
        "outputId": "438e40fe-f3bc-45dd-ca23-5d0fa4507cd2"
      },
      "source": [
        "# Plot the first image from the dataset\n",
        "plt.imshow(X_train[0,:,:], cmap=plt.cm.Greys)"
      ],
      "execution_count": 0,
      "outputs": [
        {
          "output_type": "execute_result",
          "data": {
            "text/plain": [
              "<matplotlib.image.AxesImage at 0x106268ef0>"
            ]
          },
          "metadata": {
            "tags": []
          },
          "execution_count": 6
        },
        {
          "output_type": "display_data",
          "data": {
            "image/png": "[encoded data removed]",
            "text/plain": [
              "<Figure size 432x288 with 1 Axes>"
            ]
          },
          "metadata": {
            "tags": []
          }
        }
      ]
    },
    {
      "cell_type": "markdown",
      "metadata": {
        "id": "SGgpOH47g1wJ",
        "colab_type": "text"
      },
      "source": [
        "### Each Image is a 28x28 Pixel greyscale image with values from 0 to 255"
      ]
    },
    {
      "cell_type": "code",
      "metadata": {
        "id": "yyoE6Q_og1wK",
        "colab_type": "code",
        "colab": {},
        "outputId": "1feb966f-b757-47fa-d1f8-16e509d9321e"
      },
      "source": [
        "# Our image is an array of pixels ranging from 0 to 255\n",
        "X_train[0, :, :]"
      ],
      "execution_count": 0,
      "outputs": [
        {
          "output_type": "execute_result",
          "data": {
            "text/plain": [
              "array([[  0,   0,   0,   0,   0,   0,   0,   0,   0,   0,   0,   0,   0,\n",
              "          0,   0,   0,   0,   0,   0,   0,   0,   0,   0,   0,   0,   0,\n",
              "          0,   0],\n",
              "       [  0,   0,   0,   0,   0,   0,   0,   0,   0,   0,   0,   0,   0,\n",
              "          0,   0,   0,   0,   0,   0,   0,   0,   0,   0,   0,   0,   0,\n",
              "          0,   0],\n",
              "       [  0,   0,   0,   0,   0,   0,   0,   0,   0,   0,   0,   0,   0,\n",
              "          0,   0,   0,   0,   0,   0,   0,   0,   0,   0,   0,   0,   0,\n",
              "          0,   0],\n",
              "       [  0,   0,   0,   0,   0,   0,   0,   0,   0,   0,   0,   0,   0,\n",
              "          0,   0,   0,   0,   0,   0,   0,   0,   0,   0,   0,   0,   0,\n",
              "          0,   0],\n",
              "       [  0,   0,   0,   0,   0,   0,   0,   0,   0,   0,   0,   0,   0,\n",
              "          0,   0,   0,   0,   0,   0,   0,   0,   0,   0,   0,   0,   0,\n",
              "          0,   0],\n",
              "       [  0,   0,   0,   0,   0,   0,   0,   0,   0,   0,   0,   0,   3,\n",
              "         18,  18,  18, 126, 136, 175,  26, 166, 255, 247, 127,   0,   0,\n",
              "          0,   0],\n",
              "       [  0,   0,   0,   0,   0,   0,   0,   0,  30,  36,  94, 154, 170,\n",
              "        253, 253, 253, 253, 253, 225, 172, 253, 242, 195,  64,   0,   0,\n",
              "          0,   0],\n",
              "       [  0,   0,   0,   0,   0,   0,   0,  49, 238, 253, 253, 253, 253,\n",
              "        253, 253, 253, 253, 251,  93,  82,  82,  56,  39,   0,   0,   0,\n",
              "          0,   0],\n",
              "       [  0,   0,   0,   0,   0,   0,   0,  18, 219, 253, 253, 253, 253,\n",
              "        253, 198, 182, 247, 241,   0,   0,   0,   0,   0,   0,   0,   0,\n",
              "          0,   0],\n",
              "       [  0,   0,   0,   0,   0,   0,   0,   0,  80, 156, 107, 253, 253,\n",
              "        205,  11,   0,  43, 154,   0,   0,   0,   0,   0,   0,   0,   0,\n",
              "          0,   0],\n",
              "       [  0,   0,   0,   0,   0,   0,   0,   0,   0,  14,   1, 154, 253,\n",
              "         90,   0,   0,   0,   0,   0,   0,   0,   0,   0,   0,   0,   0,\n",
              "          0,   0],\n",
              "       [  0,   0,   0,   0,   0,   0,   0,   0,   0,   0,   0, 139, 253,\n",
              "        190,   2,   0,   0,   0,   0,   0,   0,   0,   0,   0,   0,   0,\n",
              "          0,   0],\n",
              "       [  0,   0,   0,   0,   0,   0,   0,   0,   0,   0,   0,  11, 190,\n",
              "        253,  70,   0,   0,   0,   0,   0,   0,   0,   0,   0,   0,   0,\n",
              "          0,   0],\n",
              "       [  0,   0,   0,   0,   0,   0,   0,   0,   0,   0,   0,   0,  35,\n",
              "        241, 225, 160, 108,   1,   0,   0,   0,   0,   0,   0,   0,   0,\n",
              "          0,   0],\n",
              "       [  0,   0,   0,   0,   0,   0,   0,   0,   0,   0,   0,   0,   0,\n",
              "         81, 240, 253, 253, 119,  25,   0,   0,   0,   0,   0,   0,   0,\n",
              "          0,   0],\n",
              "       [  0,   0,   0,   0,   0,   0,   0,   0,   0,   0,   0,   0,   0,\n",
              "          0,  45, 186, 253, 253, 150,  27,   0,   0,   0,   0,   0,   0,\n",
              "          0,   0],\n",
              "       [  0,   0,   0,   0,   0,   0,   0,   0,   0,   0,   0,   0,   0,\n",
              "          0,   0,  16,  93, 252, 253, 187,   0,   0,   0,   0,   0,   0,\n",
              "          0,   0],\n",
              "       [  0,   0,   0,   0,   0,   0,   0,   0,   0,   0,   0,   0,   0,\n",
              "          0,   0,   0,   0, 249, 253, 249,  64,   0,   0,   0,   0,   0,\n",
              "          0,   0],\n",
              "       [  0,   0,   0,   0,   0,   0,   0,   0,   0,   0,   0,   0,   0,\n",
              "          0,  46, 130, 183, 253, 253, 207,   2,   0,   0,   0,   0,   0,\n",
              "          0,   0],\n",
              "       [  0,   0,   0,   0,   0,   0,   0,   0,   0,   0,   0,   0,  39,\n",
              "        148, 229, 253, 253, 253, 250, 182,   0,   0,   0,   0,   0,   0,\n",
              "          0,   0],\n",
              "       [  0,   0,   0,   0,   0,   0,   0,   0,   0,   0,  24, 114, 221,\n",
              "        253, 253, 253, 253, 201,  78,   0,   0,   0,   0,   0,   0,   0,\n",
              "          0,   0],\n",
              "       [  0,   0,   0,   0,   0,   0,   0,   0,  23,  66, 213, 253, 253,\n",
              "        253, 253, 198,  81,   2,   0,   0,   0,   0,   0,   0,   0,   0,\n",
              "          0,   0],\n",
              "       [  0,   0,   0,   0,   0,   0,  18, 171, 219, 253, 253, 253, 253,\n",
              "        195,  80,   9,   0,   0,   0,   0,   0,   0,   0,   0,   0,   0,\n",
              "          0,   0],\n",
              "       [  0,   0,   0,   0,  55, 172, 226, 253, 253, 253, 253, 244, 133,\n",
              "         11,   0,   0,   0,   0,   0,   0,   0,   0,   0,   0,   0,   0,\n",
              "          0,   0],\n",
              "       [  0,   0,   0,   0, 136, 253, 253, 253, 212, 135, 132,  16,   0,\n",
              "          0,   0,   0,   0,   0,   0,   0,   0,   0,   0,   0,   0,   0,\n",
              "          0,   0],\n",
              "       [  0,   0,   0,   0,   0,   0,   0,   0,   0,   0,   0,   0,   0,\n",
              "          0,   0,   0,   0,   0,   0,   0,   0,   0,   0,   0,   0,   0,\n",
              "          0,   0],\n",
              "       [  0,   0,   0,   0,   0,   0,   0,   0,   0,   0,   0,   0,   0,\n",
              "          0,   0,   0,   0,   0,   0,   0,   0,   0,   0,   0,   0,   0,\n",
              "          0,   0],\n",
              "       [  0,   0,   0,   0,   0,   0,   0,   0,   0,   0,   0,   0,   0,\n",
              "          0,   0,   0,   0,   0,   0,   0,   0,   0,   0,   0,   0,   0,\n",
              "          0,   0]], dtype=uint8)"
            ]
          },
          "metadata": {
            "tags": []
          },
          "execution_count": 7
        }
      ]
    },
    {
      "cell_type": "markdown",
      "metadata": {
        "id": "ddNhKMfOg1wN",
        "colab_type": "text"
      },
      "source": [
        "### For Logistic Regression, we want to flatten our data into rows of 1D image arrays"
      ]
    },
    {
      "cell_type": "code",
      "metadata": {
        "id": "pPVCyPcJg1wO",
        "colab_type": "code",
        "colab": {},
        "outputId": "9988346a-3b5c-4c40-8522-2fb0ee9d18e6"
      },
      "source": [
        "# We want to flatten our image of 28x28 pixels to a 1D array of 784 pixels\n",
        "ndims = X_train.shape[1] * X_train.shape[2]\n",
        "X_train = X_train.reshape(X_train.shape[0], ndims)\n",
        "X_test = X_test.reshape(X_test.shape[0], ndims)\n",
        "print(\"Training Shape:\", X_train.shape)\n",
        "print(\"Testing Shape:\", X_test.shape)"
      ],
      "execution_count": 0,
      "outputs": [
        {
          "output_type": "stream",
          "text": [
            "Training Shape: (60000, 784)\n",
            "Testing Shape: (10000, 784)\n"
          ],
          "name": "stdout"
        }
      ]
    },
    {
      "cell_type": "markdown",
      "metadata": {
        "id": "Kw6ZbrU_g1wQ",
        "colab_type": "text"
      },
      "source": [
        "## Scaling and Normalization\n",
        "\n",
        "We use Sklearn's MinMaxScaler to normalize our data between 0 and 1"
      ]
    },
    {
      "cell_type": "code",
      "metadata": {
        "id": "glJQc1brg1wR",
        "colab_type": "code",
        "colab": {}
      },
      "source": [
        "# Next, we normalize our training data to be between 0 and 1\n",
        "scaler = MinMaxScaler().fit(X_train)\n",
        "\n",
        "X_train = scaler.transform(X_train)\n",
        "X_test = scaler.transform(X_test)"
      ],
      "execution_count": 0,
      "outputs": []
    },
    {
      "cell_type": "code",
      "metadata": {
        "id": "TW-B-moRg1wU",
        "colab_type": "code",
        "colab": {}
      },
      "source": [
        "# Alternative way to normalize this dataset since we know that the max pixel value is 255\n",
        "# X_train = X_train.astype(\"float32\")\n",
        "# X_test = X_test.astype(\"float32\")\n",
        "# X_train /= 255.0\n",
        "# X_test /= 255.0"
      ],
      "execution_count": 0,
      "outputs": []
    },
    {
      "cell_type": "markdown",
      "metadata": {
        "id": "HSwhyl0ig1wa",
        "colab_type": "text"
      },
      "source": [
        "## One-Hot Encoding\n",
        "\n",
        "We need to one-hot encode our integer labels using the `to_categorical` helper function"
      ]
    },
    {
      "cell_type": "code",
      "metadata": {
        "id": "TUclcSDjg1wb",
        "colab_type": "code",
        "colab": {},
        "outputId": "fba4bffe-704a-4201-829b-1535ec2bfeb7"
      },
      "source": [
        "# Our Training and Testing labels are integer encoded from 0 to 9\n",
        "y_train[:20]"
      ],
      "execution_count": 0,
      "outputs": [
        {
          "output_type": "execute_result",
          "data": {
            "text/plain": [
              "array([5, 0, 4, 1, 9, 2, 1, 3, 1, 4, 3, 5, 3, 6, 1, 7, 2, 8, 6, 9],\n",
              "      dtype=uint8)"
            ]
          },
          "metadata": {
            "tags": []
          },
          "execution_count": 11
        }
      ]
    },
    {
      "cell_type": "code",
      "metadata": {
        "id": "waRYarjgg1wd",
        "colab_type": "code",
        "colab": {},
        "outputId": "304b39be-0e6d-4f37-834a-29e950446b16"
      },
      "source": [
        "# We need to convert our target labels (expected values) to categorical data\n",
        "num_classes = 10\n",
        "y_train = to_categorical(y_train, num_classes)\n",
        "y_test = to_categorical(y_test, num_classes)\n",
        "# Original label of `5` is one-hot encoded as `0000010000`\n",
        "y_train[0]"
      ],
      "execution_count": 0,
      "outputs": [
        {
          "output_type": "execute_result",
          "data": {
            "text/plain": [
              "array([0., 0., 0., 0., 0., 1., 0., 0., 0., 0.], dtype=float32)"
            ]
          },
          "metadata": {
            "tags": []
          },
          "execution_count": 12
        }
      ]
    },
    {
      "cell_type": "markdown",
      "metadata": {
        "id": "58t0ck6ng1wf",
        "colab_type": "text"
      },
      "source": [
        "## Building our Model\n",
        "\n",
        "In this example, we are going to build a Deep Multi-Layer Perceptron model with 2 hidden layers."
      ]
    },
    {
      "cell_type": "markdown",
      "metadata": {
        "id": "ZNdDQ9qXg1wg",
        "colab_type": "text"
      },
      "source": [
        "## Our first step is to create an empty sequential model"
      ]
    },
    {
      "cell_type": "code",
      "metadata": {
        "id": "JOdmhYlXg1wg",
        "colab_type": "code",
        "colab": {}
      },
      "source": [
        "# Create an empty sequential model\n",
        "model = Sequential()"
      ],
      "execution_count": 0,
      "outputs": []
    },
    {
      "cell_type": "markdown",
      "metadata": {
        "id": "D9I5_7Nug1wi",
        "colab_type": "text"
      },
      "source": [
        "## Next, we add our first hidden layer\n",
        "\n",
        "In the first hidden layer, we must also specify the dimension of our input layer. This will simply be the number of elements (pixels) in each image."
      ]
    },
    {
      "cell_type": "code",
      "metadata": {
        "id": "CW616Ptag1wj",
        "colab_type": "code",
        "colab": {}
      },
      "source": [
        "# Add the first layer where the input dimensions are the 784 pixel values\n",
        "# We can also choose our activation function. `relu` is a common\n",
        "model.add(Dense(100, activation='relu', input_dim=X_train.shape[1]))"
      ],
      "execution_count": 0,
      "outputs": []
    },
    {
      "cell_type": "markdown",
      "metadata": {
        "id": "vQQGutleg1wl",
        "colab_type": "text"
      },
      "source": [
        "## We then add a second hidden layer with 100 densely connected nodes\n",
        "\n",
        "A dense layer is when every node from the previous layer is connected to each node in the current layer."
      ]
    },
    {
      "cell_type": "code",
      "metadata": {
        "id": "d-2BQ2mZg1wl",
        "colab_type": "code",
        "colab": {}
      },
      "source": [
        "# Add a second hidden layer\n",
        "model.add(Dense(100, activation='relu'))"
      ],
      "execution_count": 0,
      "outputs": []
    },
    {
      "cell_type": "markdown",
      "metadata": {
        "id": "irlCPCjpg1wn",
        "colab_type": "text"
      },
      "source": [
        "## Our final output layer uses a `softmax` activation function for logistic regression.\n",
        "\n",
        "We also need to specify the number of output classes. In this case, the number of digits that we wish to classify."
      ]
    },
    {
      "cell_type": "code",
      "metadata": {
        "id": "sE7MW4Xtg1wo",
        "colab_type": "code",
        "colab": {}
      },
      "source": [
        "# Add our final output layer where the number of nodes \n",
        "# corresponds to the number of y labels\n",
        "model.add(Dense(num_classes, activation='softmax'))"
      ],
      "execution_count": 0,
      "outputs": []
    },
    {
      "cell_type": "markdown",
      "metadata": {
        "id": "dSiOrEc-g1wq",
        "colab_type": "text"
      },
      "source": [
        "## Compiling our Model"
      ]
    },
    {
      "cell_type": "code",
      "metadata": {
        "id": "cIHN00q-g1ws",
        "colab_type": "code",
        "colab": {}
      },
      "source": [
        "# Compile the model\n",
        "model.compile(loss=\"categorical_crossentropy\",\n",
        "              optimizer=\"adam\", metrics=['accuracy'])"
      ],
      "execution_count": 0,
      "outputs": []
    },
    {
      "cell_type": "markdown",
      "metadata": {
        "id": "2YC7HpoHg1wu",
        "colab_type": "text"
      },
      "source": [
        "## Model Summary"
      ]
    },
    {
      "cell_type": "code",
      "metadata": {
        "id": "g9N7TKDrg1wv",
        "colab_type": "code",
        "colab": {},
        "outputId": "e7381d84-fb55-4a54-8e5a-a1f715d467b8"
      },
      "source": [
        "# We can summarize our model\n",
        "model.summary()"
      ],
      "execution_count": 0,
      "outputs": [
        {
          "output_type": "stream",
          "text": [
            "_________________________________________________________________\n",
            "Layer (type)                 Output Shape              Param #   \n",
            "=================================================================\n",
            "dense (Dense)                (None, 100)               78500     \n",
            "_________________________________________________________________\n",
            "dense_1 (Dense)              (None, 100)               10100     \n",
            "_________________________________________________________________\n",
            "dense_2 (Dense)              (None, 10)                1010      \n",
            "=================================================================\n",
            "Total params: 89,610\n",
            "Trainable params: 89,610\n",
            "Non-trainable params: 0\n",
            "_________________________________________________________________\n"
          ],
          "name": "stdout"
        }
      ]
    },
    {
      "cell_type": "markdown",
      "metadata": {
        "id": "dMit19VEg1wx",
        "colab_type": "text"
      },
      "source": [
        "## Compile and Train our Model\n",
        "\n",
        "Now that we have our model architecture defined, we must compile the model using a loss function and optimizer. We can also specify additional training metrics such as accuracy."
      ]
    },
    {
      "cell_type": "code",
      "metadata": {
        "id": "O3q2Dx2eg1wx",
        "colab_type": "code",
        "colab": {}
      },
      "source": [
        "# Use categorical crossentropy for categorical data and mean squared error for regression\n",
        "# Hint: your output layer in this example is using software for logistic regression (categorical)\n",
        "# If your output layer activation was `linear` then you may want to use `mse` for loss\n",
        "model.compile(optimizer='adam', \n",
        "              loss='categorical_crossentropy', \n",
        "              metrics=['accuracy'])"
      ],
      "execution_count": 0,
      "outputs": []
    },
    {
      "cell_type": "markdown",
      "metadata": {
        "id": "fh7Z-S9Kg1w0",
        "colab_type": "text"
      },
      "source": [
        "## Finally, we train our model using our training data"
      ]
    },
    {
      "cell_type": "markdown",
      "metadata": {
        "id": "oXRhrOjIg1w0",
        "colab_type": "text"
      },
      "source": [
        "Training consists of updating our weights using our optimizer and loss function. In this example, we choose 10 iterations (loops) of training that are called epochs.\n",
        "\n",
        "We also choose to shuffle our training data and increase the detail printed out during each training cycle."
      ]
    },
    {
      "cell_type": "code",
      "metadata": {
        "id": "dDS-UTkmg1w0",
        "colab_type": "code",
        "colab": {},
        "outputId": "4954eb5c-d781-485a-e9c0-fe368b425367"
      },
      "source": [
        "# Fit (train) the model\n",
        "model.fit(\n",
        "    X_train,\n",
        "    y_train,\n",
        "    epochs=10,\n",
        "    shuffle=True,\n",
        "    verbose=2\n",
        ")"
      ],
      "execution_count": 0,
      "outputs": [
        {
          "output_type": "stream",
          "text": [
            "Epoch 1/10\n",
            " - 10s - loss: 0.2431 - acc: 0.9287\n",
            "Epoch 2/10\n",
            " - 9s - loss: 0.1052 - acc: 0.9684\n",
            "Epoch 3/10\n",
            " - 10s - loss: 0.0750 - acc: 0.9764\n",
            "Epoch 4/10\n",
            " - 9s - loss: 0.0569 - acc: 0.9827\n",
            "Epoch 5/10\n",
            " - 9s - loss: 0.0466 - acc: 0.9846\n",
            "Epoch 6/10\n",
            " - 9s - loss: 0.0380 - acc: 0.9879\n",
            "Epoch 7/10\n",
            " - 9s - loss: 0.0327 - acc: 0.9890\n",
            "Epoch 8/10\n",
            " - 8s - loss: 0.0274 - acc: 0.9910\n",
            "Epoch 9/10\n",
            " - 8s - loss: 0.0214 - acc: 0.9933\n",
            "Epoch 10/10\n",
            " - 8s - loss: 0.0211 - acc: 0.9930\n"
          ],
          "name": "stdout"
        },
        {
          "output_type": "execute_result",
          "data": {
            "text/plain": [
              "<tensorflow.python.keras.callbacks.History at 0x1a39308a58>"
            ]
          },
          "metadata": {
            "tags": []
          },
          "execution_count": 20
        }
      ]
    },
    {
      "cell_type": "markdown",
      "metadata": {
        "id": "Zoltgj3Og1w3",
        "colab_type": "text"
      },
      "source": [
        "## Saving and Loading models\n",
        "\n",
        "We can save our trained models using the HDF5 binary format with the extension `.h5`"
      ]
    },
    {
      "cell_type": "code",
      "metadata": {
        "id": "OlaG_hzGg1w4",
        "colab_type": "code",
        "colab": {}
      },
      "source": [
        "# Save the model\n",
        "model.save(\"mnist_trained.h5\")"
      ],
      "execution_count": 0,
      "outputs": []
    },
    {
      "cell_type": "code",
      "metadata": {
        "id": "LMcvKCYJg1w6",
        "colab_type": "code",
        "colab": {}
      },
      "source": [
        "# Load the model\n",
        "from tensorflow.keras.models import load_model\n",
        "model = load_model(\"mnist_trained.h5\")"
      ],
      "execution_count": 0,
      "outputs": []
    },
    {
      "cell_type": "markdown",
      "metadata": {
        "id": "BvmhdDOYg1w9",
        "colab_type": "text"
      },
      "source": [
        "## Evaluating the Model\n",
        "\n",
        "We use our testing data to validate our model. This is how we determine the validity of our model (i.e. the ability to predict new and previously unseen data points)"
      ]
    },
    {
      "cell_type": "code",
      "metadata": {
        "id": "QIStlkjvg1w-",
        "colab_type": "code",
        "colab": {},
        "outputId": "05c4a25f-055c-40a8-c78a-81cd04224d61"
      },
      "source": [
        "# Evaluate the model using the training data \n",
        "model_loss, model_accuracy = model.evaluate(X_test, y_test, verbose=2)\n",
        "print(f\"Loss: {model_loss}, Accuracy: {model_accuracy}\")"
      ],
      "execution_count": 0,
      "outputs": [
        {
          "output_type": "stream",
          "text": [
            "Loss: 0.0957128526122302, Accuracy: 0.9777\n"
          ],
          "name": "stdout"
        }
      ]
    },
    {
      "cell_type": "markdown",
      "metadata": {
        "id": "6eihugCCg1xB",
        "colab_type": "text"
      },
      "source": [
        "## Making Predictions\n",
        "\n",
        "We can use our trained model to make predictions using `model.predict`"
      ]
    },
    {
      "cell_type": "code",
      "metadata": {
        "id": "kuFY5rThg1xB",
        "colab_type": "code",
        "colab": {},
        "outputId": "ad632ee5-3ac0-450b-f0a6-3a05de1b4137"
      },
      "source": [
        "# Grab just one data point to test with\n",
        "test = np.expand_dims(X_train[0], axis=0)\n",
        "test.shape"
      ],
      "execution_count": 0,
      "outputs": [
        {
          "output_type": "execute_result",
          "data": {
            "text/plain": [
              "(1, 784)"
            ]
          },
          "metadata": {
            "tags": []
          },
          "execution_count": 24
        }
      ]
    },
    {
      "cell_type": "code",
      "metadata": {
        "id": "INeB4nLwg1xD",
        "colab_type": "code",
        "colab": {},
        "outputId": "4f419f1c-2748-4297-a4e7-ea7c7b81211d"
      },
      "source": [
        "plt.imshow(scaler.inverse_transform(test).reshape(28, 28), cmap=plt.cm.Greys)"
      ],
      "execution_count": 0,
      "outputs": [
        {
          "output_type": "execute_result",
          "data": {
            "text/plain": [
              "<matplotlib.image.AxesImage at 0x1a5eda30b8>"
            ]
          },
          "metadata": {
            "tags": []
          },
          "execution_count": 25
        },
        {
          "output_type": "display_data",
          "data": {
            "image/png": "[encoded data removed]",
            "text/plain": [
              "<Figure size 432x288 with 1 Axes>"
            ]
          },
          "metadata": {
            "tags": []
          }
        }
      ]
    },
    {
      "cell_type": "code",
      "metadata": {
        "id": "9fs1_eJpg1xG",
        "colab_type": "code",
        "colab": {},
        "outputId": "12f9d51c-51d9-4543-cb9c-5c532a283808"
      },
      "source": [
        "# Make a prediction. The result should be 0000010000000 for a 5\n",
        "model.predict(test).round()"
      ],
      "execution_count": 0,
      "outputs": [
        {
          "output_type": "execute_result",
          "data": {
            "text/plain": [
              "array([[0., 0., 0., 0., 0., 1., 0., 0., 0., 0.]], dtype=float32)"
            ]
          },
          "metadata": {
            "tags": []
          },
          "execution_count": 26
        }
      ]
    },
    {
      "cell_type": "code",
      "metadata": {
        "id": "-teW1UrAg1xI",
        "colab_type": "code",
        "colab": {},
        "outputId": "ad0b5eeb-5e6b-42ca-b3b6-78a0e81974e5"
      },
      "source": [
        "# Grab just one data point to test with\n",
        "test = np.expand_dims(X_train[2], axis=0)\n",
        "test.shape"
      ],
      "execution_count": 0,
      "outputs": [
        {
          "output_type": "execute_result",
          "data": {
            "text/plain": [
              "(1, 784)"
            ]
          },
          "metadata": {
            "tags": []
          },
          "execution_count": 27
        }
      ]
    },
    {
      "cell_type": "code",
      "metadata": {
        "id": "wkIJnYJDg1xM",
        "colab_type": "code",
        "colab": {},
        "outputId": "ff1c3108-9577-4af2-cb62-bff3b92c57ca"
      },
      "source": [
        "plt.imshow(scaler.inverse_transform(test).reshape(28, 28), cmap=plt.cm.Greys)"
      ],
      "execution_count": 0,
      "outputs": [
        {
          "output_type": "execute_result",
          "data": {
            "text/plain": [
              "<matplotlib.image.AxesImage at 0x1a5ee20438>"
            ]
          },
          "metadata": {
            "tags": []
          },
          "execution_count": 28
        },
        {
          "output_type": "display_data",
          "data": {
            "image/png": "[encoded data removed]",
            "text/plain": [
              "<Figure size 432x288 with 1 Axes>"
            ]
          },
          "metadata": {
            "tags": []
          }
        }
      ]
    },
    {
      "cell_type": "code",
      "metadata": {
        "id": "G7bsQnmsg1xP",
        "colab_type": "code",
        "colab": {},
        "outputId": "4352b8c9-14d5-4523-c10e-d084f6b0a44a"
      },
      "source": [
        "# Make a prediction. The resulting class should match the digit\n",
        "print(f\"One-Hot-Encoded Prediction: {model.predict(test).round()}\")\n",
        "print(f\"Predicted class: {model.predict_classes(test)}\")"
      ],
      "execution_count": 0,
      "outputs": [
        {
          "output_type": "stream",
          "text": [
            "One-Hot-Encoded Prediction: [[0. 0. 0. 0. 1. 0. 0. 0. 0. 0.]]\n",
            "Predicted class: [4]\n"
          ],
          "name": "stdout"
        }
      ]
    },
    {
      "cell_type": "markdown",
      "metadata": {
        "id": "NcCqo8X0g1xS",
        "colab_type": "text"
      },
      "source": [
        "# Import a Custom Image"
      ]
    },
    {
      "cell_type": "code",
      "metadata": {
        "id": "WaesARbmg1xS",
        "colab_type": "code",
        "colab": {}
      },
      "source": [
        "filepath = \"../Images/test8.png\""
      ],
      "execution_count": 0,
      "outputs": []
    },
    {
      "cell_type": "code",
      "metadata": {
        "id": "H9jUdAPag1xV",
        "colab_type": "code",
        "colab": {},
        "outputId": "729c68a1-7aa6-41ab-933b-d880dabb9d61"
      },
      "source": [
        "from tensorflow.keras.preprocessing import image\n",
        "image_size = (28, 28)\n",
        "im = image.load_img(filepath, target_size=image_size, color_mode=\"grayscale\")\n",
        "im"
      ],
      "execution_count": 0,
      "outputs": [
        {
          "output_type": "execute_result",
          "data": {
            "image/png": "[encoded data removed]",
            "text/plain": [
              "<PIL.Image.Image image mode=L size=28x28 at 0x1A5EE20898>"
            ]
          },
          "metadata": {
            "tags": []
          },
          "execution_count": 31
        }
      ]
    },
    {
      "cell_type": "code",
      "metadata": {
        "id": "yIu3YP49g1xa",
        "colab_type": "code",
        "colab": {},
        "outputId": "5896d2c4-1c4f-49c2-9d1f-03cc4d083c82"
      },
      "source": [
        "# Convert the image to a numpy array \n",
        "from tensorflow.keras.preprocessing.image import img_to_array\n",
        "image = img_to_array(im)\n",
        "image.shape"
      ],
      "execution_count": 0,
      "outputs": [
        {
          "output_type": "execute_result",
          "data": {
            "text/plain": [
              "(28, 28, 1)"
            ]
          },
          "metadata": {
            "tags": []
          },
          "execution_count": 32
        }
      ]
    },
    {
      "cell_type": "code",
      "metadata": {
        "id": "3z5d_6Vig1xe",
        "colab_type": "code",
        "colab": {},
        "outputId": "75a0bb07-64c8-4b07-b762-54356680cc05"
      },
      "source": [
        "# Scale the image pixels by 255 (or use a scaler from sklearn here)\n",
        "image /= 255\n",
        "\n",
        "# Flatten into a 1x28*28 array \n",
        "img = image.flatten().reshape(-1, 28*28)\n",
        "img.shape"
      ],
      "execution_count": 0,
      "outputs": [
        {
          "output_type": "execute_result",
          "data": {
            "text/plain": [
              "(1, 784)"
            ]
          },
          "metadata": {
            "tags": []
          },
          "execution_count": 33
        }
      ]
    },
    {
      "cell_type": "code",
      "metadata": {
        "id": "fsh_UAjFg1xh",
        "colab_type": "code",
        "colab": {},
        "outputId": "49ea1fba-6542-4444-9d95-c22f338e0df5"
      },
      "source": [
        "plt.imshow(img.reshape(28, 28), cmap=plt.cm.Greys)"
      ],
      "execution_count": 0,
      "outputs": [
        {
          "output_type": "execute_result",
          "data": {
            "text/plain": [
              "<matplotlib.image.AxesImage at 0x1a5efdeb70>"
            ]
          },
          "metadata": {
            "tags": []
          },
          "execution_count": 34
        },
        {
          "output_type": "display_data",
          "data": {
            "image/png": "[encoded data removed]",
            "text/plain": [
              "<Figure size 432x288 with 1 Axes>"
            ]
          },
          "metadata": {
            "tags": []
          }
        }
      ]
    },
    {
      "cell_type": "code",
      "metadata": {
        "id": "ZOzf8d9ig1xj",
        "colab_type": "code",
        "colab": {},
        "outputId": "6d60b1cf-eba9-47b6-ff50-773edc26f16b"
      },
      "source": [
        "# Invert the pixel values to match the original data\n",
        "img = 1 - img\n",
        "plt.imshow(img.reshape(28, 28), cmap=plt.cm.Greys)"
      ],
      "execution_count": 0,
      "outputs": [
        {
          "output_type": "execute_result",
          "data": {
            "text/plain": [
              "<matplotlib.image.AxesImage at 0x1a5f0f2588>"
            ]
          },
          "metadata": {
            "tags": []
          },
          "execution_count": 35
        },
        {
          "output_type": "display_data",
          "data": {
            "image/png": "[encoded data removed]",
            "text/plain": [
              "<Figure size 432x288 with 1 Axes>"
            ]
          },
          "metadata": {
            "tags": []
          }
        }
      ]
    },
    {
      "cell_type": "code",
      "metadata": {
        "id": "0aptbuG-g1xn",
        "colab_type": "code",
        "colab": {},
        "outputId": "0e3e2f86-834a-405f-a52d-06430d31c741"
      },
      "source": [
        "# Make predictions\n",
        "model.predict_classes(img)"
      ],
      "execution_count": 0,
      "outputs": [
        {
          "output_type": "execute_result",
          "data": {
            "text/plain": [
              "array([8])"
            ]
          },
          "metadata": {
            "tags": []
          },
          "execution_count": 36
        }
      ]
    }
  ]
}