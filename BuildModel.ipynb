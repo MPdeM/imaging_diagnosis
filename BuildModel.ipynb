{
  "nbformat": 4,
  "nbformat_minor": 0,
  "metadata": {
    "anaconda-cloud": {},
    "celltoolbar": "Slideshow",
    "kernelspec": {
      "display_name": "Python 3",
      "language": "python",
      "name": "python3"
    },
    "language_info": {
      "codemirror_mode": {
        "name": "ipython",
        "version": 3
      },
      "file_extension": ".py",
      "mimetype": "text/x-python",
      "name": "python",
      "nbconvert_exporter": "python",
      "pygments_lexer": "ipython3",
      "version": "3.7.3"
    },
    "varInspector": {
      "cols": {
        "lenName": 16,
        "lenType": 16,
        "lenVar": 40
      },
      "kernels_config": {
        "python": {
          "delete_cmd_postfix": "",
          "delete_cmd_prefix": "del ",
          "library": "var_list.py",
          "varRefreshCmd": "print(var_dic_list())"
        },
        "r": {
          "delete_cmd_postfix": ") ",
          "delete_cmd_prefix": "rm(",
          "library": "var_list.r",
          "varRefreshCmd": "cat(var_dic_list()) "
        }
      },
      "types_to_exclude": [
        "module",
        "function",
        "builtin_function_or_method",
        "instance",
        "_Feature"
      ],
      "window_display": false
    },
    "colab": {
      "name": "BuildModel.ipynb",
      "provenance": [],
      "collapsed_sections": [
        "SGgpOH47g1wJ",
        "ddNhKMfOg1wN",
        "Kw6ZbrU_g1wQ",
        "HSwhyl0ig1wa",
        "58t0ck6ng1wf",
        "ZNdDQ9qXg1wg",
        "D9I5_7Nug1wi",
        "vQQGutleg1wl",
        "irlCPCjpg1wn",
        "dSiOrEc-g1wq",
        "2YC7HpoHg1wu",
        "dMit19VEg1wx",
        "fh7Z-S9Kg1w0",
        "Zoltgj3Og1w3",
        "BvmhdDOYg1w9",
        "6eihugCCg1xB"
      ]
    }
  },
  "cells": [
    {
      "cell_type": "markdown",
      "metadata": {
        "id": "64bCUGyrg1vZ",
        "colab_type": "text"
      },
      "source": [
        "## Dependencies"
      ]
    },
    {
      "cell_type": "code",
      "metadata": {
        "id": "M4rIagcxg1va",
        "colab_type": "code",
        "colab": {
          "base_uri": "https://localhost:8080/",
          "height": 34
        },
        "outputId": "afc15719-de90-4691-fa81-1a4776365860"
      },
      "source": [
        "!pip install imutils\n"
      ],
      "execution_count": 1,
      "outputs": [
        {
          "output_type": "stream",
          "text": [
            "Requirement already satisfied: imutils in /usr/local/lib/python3.6/dist-packages (0.5.3)\n"
          ],
          "name": "stdout"
        }
      ]
    },
    {
      "cell_type": "code",
      "metadata": {
        "id": "vHb43O44g1vf",
        "colab_type": "code",
        "colab": {}
      },
      "source": [
        "# Dependencies to Visualize the model\n",
        "%matplotlib inline\n",
        "from IPython.display import Image, SVG\n",
        "import matplotlib.pyplot as plt\n",
        "import numpy as np\n",
        "\n",
        "import pandas as pd \n",
        "import random\n",
        "import cv2"
      ],
      "execution_count": 0,
      "outputs": []
    },
    {
      "cell_type": "code",
      "metadata": {
        "id": "letvmWlQg1vn",
        "colab_type": "code",
        "colab": {}
      },
      "source": [
        "# Filepaths, numpy, and Tensorflow\n",
        "import os\n",
        "import numpy as np\n",
        "import tensorflow as tf\n",
        "\n",
        "np.random.seed(0) \n",
        "\n",
        "seed = 580\n",
        "np.random.seed(seed)\n",
        "tf.random.set_seed(seed)"
      ],
      "execution_count": 0,
      "outputs": []
    },
    {
      "cell_type": "code",
      "metadata": {
        "id": "_PJNV6MKsg3U",
        "colab_type": "code",
        "colab": {
          "base_uri": "https://localhost:8080/",
          "height": 122
        },
        "outputId": "184d9396-e9af-4c2b-f42b-87613067a902"
      },
      "source": [
        "# connect to drive\n",
        "from google.colab import drive\n",
        "drive.mount('/content/drive')"
      ],
      "execution_count": 5,
      "outputs": [
        {
          "output_type": "stream",
          "text": [
            "Go to this URL in a browser: https://accounts.google.com/o/oauth2/auth?client_id=947318989803-6bn6qk8qdgf4n4g3pfee6491hc0brc4i.apps.googleusercontent.com&redirect_uri=urn%3aietf%3awg%3aoauth%3a2.0%3aoob&response_type=code&scope=email%20https%3a%2f%2fwww.googleapis.com%2fauth%2fdocs.test%20https%3a%2f%2fwww.googleapis.com%2fauth%2fdrive%20https%3a%2f%2fwww.googleapis.com%2fauth%2fdrive.photos.readonly%20https%3a%2f%2fwww.googleapis.com%2fauth%2fpeopleapi.readonly\n",
            "\n",
            "Enter your authorization code:\n",
            "··········\n",
            "Mounted at /content/drive\n"
          ],
          "name": "stdout"
        }
      ]
    },
    {
      "cell_type": "code",
      "metadata": {
        "id": "ts7R-D-yub6P",
        "colab_type": "code",
        "colab": {}
      },
      "source": [
        ""
      ],
      "execution_count": 0,
      "outputs": []
    },
    {
      "cell_type": "markdown",
      "metadata": {
        "id": "VNH7JP_rg1vu",
        "colab_type": "text"
      },
      "source": [
        "### Keras Specific Dependencies"
      ]
    },
    {
      "cell_type": "code",
      "metadata": {
        "id": "mTsZVNSug1vv",
        "colab_type": "code",
        "colab": {
          "base_uri": "https://localhost:8080/",
          "height": 34
        },
        "outputId": "ffbc8daf-ab78-49b3-c89a-29da1279c0c5"
      },
      "source": [
        "# Sklearn scaling\n",
        "from sklearn.preprocessing import MinMaxScaler\n",
        "\n",
        "# Keras\n",
        "# from tensorflow import keras\n",
        "# from tensorflow.keras.models import Sequential\n",
        "# from tensorflow.keras.utils import to_categorical\n",
        "# from tensorflow.keras.layers import Dense\n",
        "# from tensorflow.keras.datasets import mnist\n",
        "\n",
        "import keras.backend as K\n",
        "from keras.models import Model, Sequential\n",
        "from keras.layers import Input, Dense, Flatten, Dropout, BatchNormalization\n",
        "from keras.layers import Conv2D, SeparableConv2D, MaxPool2D, LeakyReLU, Activation\n",
        "from keras.optimizers import Adam\n",
        "from keras.preprocessing.image import ImageDataGenerator\n",
        "from keras.callbacks import ModelCheckpoint, ReduceLROnPlateau, EarlyStopping\n"
      ],
      "execution_count": 6,
      "outputs": [
        {
          "output_type": "stream",
          "text": [
            "Using TensorFlow backend.\n"
          ],
          "name": "stderr"
        }
      ]
    },
    {
      "cell_type": "code",
      "metadata": {
        "id": "ehR7DZFGg1vz",
        "colab_type": "code",
        "colab": {}
      },
      "source": [
        "# covid_dataset_path = 'https://data-imaging.s3.amazonaws.com/covid-chest-xray'\n",
        "covid_dataset_path = '/content/drive/My Drive/covid-chest-xray'"
      ],
      "execution_count": 0,
      "outputs": []
    },
    {
      "cell_type": "code",
      "metadata": {
        "id": "STvhzg5Ng1v2",
        "colab_type": "code",
        "colab": {}
      },
      "source": [
        "samples = 25"
      ],
      "execution_count": 0,
      "outputs": []
    },
    {
      "cell_type": "code",
      "metadata": {
        "scrolled": true,
        "id": "iwzbB6uDg1v6",
        "colab_type": "code",
        "colab": {
          "base_uri": "https://localhost:8080/",
          "height": 182
        },
        "outputId": "dcf9fdce-8854-47be-fb84-cffa9d4f2814"
      },
      "source": [
        "# construct the path to the metadata CSV file and load it\n",
        "csvPath = \"/content/drive/My Drive/covid-chest-xray/metadata.csv\"\n",
        "df = pd.read_csv(csvPath)\n",
        "df.head(2)\n",
        "\n",
        "# https://data-imaging.s3.amazonaws.com/covid-chest-xray/metadata.csv\n",
        "# print(csvPath)"
      ],
      "execution_count": 9,
      "outputs": [
        {
          "output_type": "execute_result",
          "data": {
            "text/html": [
              "<div>\n",
              "<style scoped>\n",
              "    .dataframe tbody tr th:only-of-type {\n",
              "        vertical-align: middle;\n",
              "    }\n",
              "\n",
              "    .dataframe tbody tr th {\n",
              "        vertical-align: top;\n",
              "    }\n",
              "\n",
              "    .dataframe thead th {\n",
              "        text-align: right;\n",
              "    }\n",
              "</style>\n",
              "<table border=\"1\" class=\"dataframe\">\n",
              "  <thead>\n",
              "    <tr style=\"text-align: right;\">\n",
              "      <th></th>\n",
              "      <th>Patientid</th>\n",
              "      <th>offset</th>\n",
              "      <th>sex</th>\n",
              "      <th>age</th>\n",
              "      <th>finding</th>\n",
              "      <th>survival</th>\n",
              "      <th>view</th>\n",
              "      <th>modality</th>\n",
              "      <th>date</th>\n",
              "      <th>location</th>\n",
              "      <th>filename</th>\n",
              "      <th>doi</th>\n",
              "      <th>url</th>\n",
              "      <th>license</th>\n",
              "      <th>clinical notes</th>\n",
              "      <th>other notes</th>\n",
              "      <th>Unnamed: 16</th>\n",
              "    </tr>\n",
              "  </thead>\n",
              "  <tbody>\n",
              "    <tr>\n",
              "      <th>0</th>\n",
              "      <td>2</td>\n",
              "      <td>0.0</td>\n",
              "      <td>M</td>\n",
              "      <td>65.0</td>\n",
              "      <td>COVID-19</td>\n",
              "      <td>Y</td>\n",
              "      <td>PA</td>\n",
              "      <td>X-ray</td>\n",
              "      <td>2020</td>\n",
              "      <td>NaN</td>\n",
              "      <td>auntminnie-a-2020_01_28_23_51_6665_2020_01_28_...</td>\n",
              "      <td>10.1056/nejmc2001272</td>\n",
              "      <td>https://www.nejm.org/doi/full/10.1056/NEJMc200...</td>\n",
              "      <td>NaN</td>\n",
              "      <td>NaN</td>\n",
              "      <td>NaN</td>\n",
              "      <td>NaN</td>\n",
              "    </tr>\n",
              "    <tr>\n",
              "      <th>1</th>\n",
              "      <td>2</td>\n",
              "      <td>3.0</td>\n",
              "      <td>M</td>\n",
              "      <td>65.0</td>\n",
              "      <td>COVID-19</td>\n",
              "      <td>Y</td>\n",
              "      <td>PA</td>\n",
              "      <td>X-ray</td>\n",
              "      <td>2020</td>\n",
              "      <td>NaN</td>\n",
              "      <td>auntminnie-b-2020_01_28_23_51_6665_2020_01_28_...</td>\n",
              "      <td>10.1056/nejmc2001272</td>\n",
              "      <td>https://www.nejm.org/doi/full/10.1056/NEJMc200...</td>\n",
              "      <td>NaN</td>\n",
              "      <td>NaN</td>\n",
              "      <td>NaN</td>\n",
              "      <td>NaN</td>\n",
              "    </tr>\n",
              "  </tbody>\n",
              "</table>\n",
              "</div>"
            ],
            "text/plain": [
              "   Patientid  offset sex   age  ... license clinical notes other notes Unnamed: 16\n",
              "0          2     0.0   M  65.0  ...     NaN            NaN         NaN         NaN\n",
              "1          2     3.0   M  65.0  ...     NaN            NaN         NaN         NaN\n",
              "\n",
              "[2 rows x 17 columns]"
            ]
          },
          "metadata": {
            "tags": []
          },
          "execution_count": 9
        }
      ]
    },
    {
      "cell_type": "code",
      "metadata": {
        "id": "ZcPE0ri4g1v9",
        "colab_type": "code",
        "colab": {
          "base_uri": "https://localhost:8080/",
          "height": 85
        },
        "outputId": "78d86cfe-2208-4113-9bf3-2b6efe8eee5f"
      },
      "source": [
        "print(df.columns)"
      ],
      "execution_count": 10,
      "outputs": [
        {
          "output_type": "stream",
          "text": [
            "Index(['Patientid', 'offset', 'sex', 'age', 'finding', 'survival', 'view',\n",
            "       'modality', 'date', 'location', 'filename', 'doi', ' url', 'license',\n",
            "       'clinical notes', 'other notes', 'Unnamed: 16'],\n",
            "      dtype='object')\n"
          ],
          "name": "stdout"
        }
      ]
    },
    {
      "cell_type": "code",
      "metadata": {
        "id": "pB_ug6Be4bKH",
        "colab_type": "code",
        "colab": {
          "base_uri": "https://localhost:8080/",
          "height": 591
        },
        "outputId": "45dccc4b-ef90-4ed4-cbbd-98a0967a591f"
      },
      "source": [
        "# Finding distribution (nan if unknown)\n",
        "ax = df['finding'].value_counts(dropna=False).plot.pie(y='Finding',\n",
        "                                                       legend = True,\n",
        "                                                       autopct='%2.0f%%',\n",
        "                                                       figsize = (10,10),\n",
        "                                                       title = 'Finding Distribution')"
      ],
      "execution_count": 23,
      "outputs": [
        {
          "output_type": "display_data",
          "data": {
            "image/png": "[encoded data removed]",
            "text/plain": [
              "<Figure size 720x720 with 1 Axes>"
            ]
          },
          "metadata": {
            "tags": []
          }
        }
      ]
    },
    {
      "cell_type": "code",
      "metadata": {
        "id": "65XLRsIn4bhR",
        "colab_type": "code",
        "colab": {
          "base_uri": "https://localhost:8080/",
          "height": 319
        },
        "outputId": "90e784b3-d7e5-4fce-f53b-dfe016731822"
      },
      "source": [
        "\n",
        "# Sex distribution (nan if unknown)\n",
        "ax = df['sex'].value_counts(dropna=False).plot.pie(y='sex',\n",
        "                                                    legend = True,\n",
        "                                                    autopct='%2.0f%%',\n",
        "                                                    figsize = (5,5),\n",
        "                                                    title = 'Sex Distribution')"
      ],
      "execution_count": 24,
      "outputs": [
        {
          "output_type": "display_data",
          "data": {
            "image/png": "[encoded data removed]",
            "text/plain": [
              "<Figure size 360x360 with 1 Axes>"
            ]
          },
          "metadata": {
            "tags": []
          }
        }
      ]
    },
    {
      "cell_type": "code",
      "metadata": {
        "id": "kMAkUYyk4bth",
        "colab_type": "code",
        "colab": {
          "base_uri": "https://localhost:8080/",
          "height": 390
        },
        "outputId": "4f832022-19e7-4348-b686-ea758e4b0673"
      },
      "source": [
        "# Now age (nan in unknown)\n",
        "out = pd.cut(df['age'], bins=np.arange(0,110,10).tolist(), include_lowest=True)\n",
        "ax = out.value_counts(sort=False, dropna=False).plot.bar(rot=0, color=\"b\", figsize=(15,6), title= \"Age Distribution\")\n",
        "#ax.set_xticklabels([c[1:-1].replace(\",\",\" to\") for c in out.cat.categories])\n",
        "plt.show()"
      ],
      "execution_count": 25,
      "outputs": [
        {
          "output_type": "display_data",
          "data": {
            "image/png": "[encoded data removed]",
            "text/plain": [
              "<Figure size 1080x432 with 1 Axes>"
            ]
          },
          "metadata": {
            "tags": [],
            "needs_background": "light"
          }
        }
      ]
    },
    {
      "cell_type": "code",
      "metadata": {
        "id": "gg9EZWaI4b5b",
        "colab_type": "code",
        "colab": {
          "base_uri": "https://localhost:8080/",
          "height": 319
        },
        "outputId": "8312a036-4bef-436e-bace-a0fe5ac86e9d"
      },
      "source": [
        "# Survival \n",
        "ax = df['survival'].value_counts(dropna=False).plot.pie(y='survival',\n",
        "                                                        legend = True,\n",
        "                                                        autopct='%2.0f%%',\n",
        "                                                        figsize = (5,5),\n",
        "                                                        title = 'Survival Distribution')"
      ],
      "execution_count": 26,
      "outputs": [
        {
          "output_type": "display_data",
          "data": {
            "image/png": "[encoded data removed]",
            "text/plain": [
              "<Figure size 360x360 with 1 Axes>"
            ]
          },
          "metadata": {
            "tags": []
          }
        }
      ]
    },
    {
      "cell_type": "markdown",
      "metadata": {
        "id": "RVhAro3MEhdi",
        "colab_type": "text"
      },
      "source": [
        "Build the list of paths to the diferent data sets"
      ]
    },
    {
      "cell_type": "code",
      "metadata": {
        "id": "greFrZny59G_",
        "colab_type": "code",
        "colab": {
          "base_uri": "https://localhost:8080/",
          "height": 1000
        },
        "outputId": "1b01d4bc-941f-485e-8f50-f15bedaa34e4"
      },
      "source": [
        "import shutil\n",
        "# loop over the rows of the COVID-19 data frame\n",
        "for (i, row) in df.iterrows():\n",
        "    # if (1) the current case is not COVID-19 or (2) this is not\n",
        "    # a 'PA' view, then ignore the row\n",
        "    if row[\"finding\"] != \"COVID-19\" or row[\"view\"] != \"PA\":\n",
        "        continue\n",
        "    imagePath = os.path.sep.join([covid_dataset_path, \"images\", row[\"filename\"]])\n",
        "    # print(imagePath)\n",
        "    # if the image file listed on the csv file does not exist then ignore entry\n",
        "    if not os.path.sep.join(imagePath):\n",
        "      continue\n",
        "    # extract the filename from the path \n",
        "    filename= row[\"filename\"].split(os.path.sep)[-1]\n",
        "    outputPath = os.path.sep.join([f\"/content/drive/My Drive/data/covid\", filename])\n",
        "    \n",
        "    # copy the image\n",
        "    shutil.copy2(imagePath, outputPath)\n",
        "\n"
      ],
      "execution_count": 11,
      "outputs": [
        {
          "output_type": "stream",
          "text": [
            "auntminnie-a-2020_01_28_23_51_6665_2020_01_28_Vietnam_coronavirus.jpeg\n",
            "/content/drive/My Drive/data/covid/auntminnie-a-2020_01_28_23_51_6665_2020_01_28_Vietnam_coronavirus.jpeg\n",
            "/content/drive/My Drive/covid-chest-xray/images/auntminnie-a-2020_01_28_23_51_6665_2020_01_28_Vietnam_coronavirus.jpeg\n",
            "auntminnie-b-2020_01_28_23_51_6665_2020_01_28_Vietnam_coronavirus.jpeg\n",
            "/content/drive/My Drive/data/covid/auntminnie-b-2020_01_28_23_51_6665_2020_01_28_Vietnam_coronavirus.jpeg\n",
            "/content/drive/My Drive/covid-chest-xray/images/auntminnie-b-2020_01_28_23_51_6665_2020_01_28_Vietnam_coronavirus.jpeg\n",
            "auntminnie-c-2020_01_28_23_51_6665_2020_01_28_Vietnam_coronavirus.jpeg\n",
            "/content/drive/My Drive/data/covid/auntminnie-c-2020_01_28_23_51_6665_2020_01_28_Vietnam_coronavirus.jpeg\n",
            "/content/drive/My Drive/covid-chest-xray/images/auntminnie-c-2020_01_28_23_51_6665_2020_01_28_Vietnam_coronavirus.jpeg\n",
            "auntminnie-d-2020_01_28_23_51_6665_2020_01_28_Vietnam_coronavirus.jpeg\n",
            "/content/drive/My Drive/data/covid/auntminnie-d-2020_01_28_23_51_6665_2020_01_28_Vietnam_coronavirus.jpeg\n",
            "/content/drive/My Drive/covid-chest-xray/images/auntminnie-d-2020_01_28_23_51_6665_2020_01_28_Vietnam_coronavirus.jpeg\n",
            "nejmc2001573_f1a.jpeg\n",
            "/content/drive/My Drive/data/covid/nejmc2001573_f1a.jpeg\n",
            "/content/drive/My Drive/covid-chest-xray/images/nejmc2001573_f1a.jpeg\n",
            "nejmc2001573_f1b.jpeg\n",
            "/content/drive/My Drive/data/covid/nejmc2001573_f1b.jpeg\n",
            "/content/drive/My Drive/covid-chest-xray/images/nejmc2001573_f1b.jpeg\n",
            "lancet-case2a.jpg\n",
            "/content/drive/My Drive/data/covid/lancet-case2a.jpg\n",
            "/content/drive/My Drive/covid-chest-xray/images/lancet-case2a.jpg\n",
            "lancet-case2b.jpg\n",
            "/content/drive/My Drive/data/covid/lancet-case2b.jpg\n",
            "/content/drive/My Drive/covid-chest-xray/images/lancet-case2b.jpg\n",
            "1-s2.0-S0140673620303706-fx1_lrg.jpg\n",
            "/content/drive/My Drive/data/covid/1-s2.0-S0140673620303706-fx1_lrg.jpg\n",
            "/content/drive/My Drive/covid-chest-xray/images/1-s2.0-S0140673620303706-fx1_lrg.jpg\n",
            "nCoV-radiol.2020200269.fig1-day7.jpeg\n",
            "/content/drive/My Drive/data/covid/nCoV-radiol.2020200269.fig1-day7.jpeg\n",
            "/content/drive/My Drive/covid-chest-xray/images/nCoV-radiol.2020200269.fig1-day7.jpeg\n",
            "nejmoa2001191_f1-PA.jpeg\n",
            "/content/drive/My Drive/data/covid/nejmoa2001191_f1-PA.jpeg\n",
            "/content/drive/My Drive/covid-chest-xray/images/nejmoa2001191_f1-PA.jpeg\n",
            "nejmoa2001191_f3-PA.jpeg\n",
            "/content/drive/My Drive/data/covid/nejmoa2001191_f3-PA.jpeg\n",
            "/content/drive/My Drive/covid-chest-xray/images/nejmoa2001191_f3-PA.jpeg\n",
            "nejmoa2001191_f4.jpeg\n",
            "/content/drive/My Drive/data/covid/nejmoa2001191_f4.jpeg\n",
            "/content/drive/My Drive/covid-chest-xray/images/nejmoa2001191_f4.jpeg\n",
            "nejmoa2001191_f5-PA.jpeg\n",
            "/content/drive/My Drive/data/covid/nejmoa2001191_f5-PA.jpeg\n",
            "/content/drive/My Drive/covid-chest-xray/images/nejmoa2001191_f5-PA.jpeg\n",
            "ryct.2020200034.fig2.jpeg\n",
            "/content/drive/My Drive/data/covid/ryct.2020200034.fig2.jpeg\n",
            "/content/drive/My Drive/covid-chest-xray/images/ryct.2020200034.fig2.jpeg\n",
            "ryct.2020200034.fig5-day0.jpeg\n",
            "/content/drive/My Drive/data/covid/ryct.2020200034.fig5-day0.jpeg\n",
            "/content/drive/My Drive/covid-chest-xray/images/ryct.2020200034.fig5-day0.jpeg\n",
            "ryct.2020200034.fig5-day4.jpeg\n",
            "/content/drive/My Drive/data/covid/ryct.2020200034.fig5-day4.jpeg\n",
            "/content/drive/My Drive/covid-chest-xray/images/ryct.2020200034.fig5-day4.jpeg\n",
            "ryct.2020200034.fig5-day7.jpeg\n",
            "/content/drive/My Drive/data/covid/ryct.2020200034.fig5-day7.jpeg\n",
            "/content/drive/My Drive/covid-chest-xray/images/ryct.2020200034.fig5-day7.jpeg\n",
            "ryct.2020200028.fig1a.jpeg\n",
            "/content/drive/My Drive/data/covid/ryct.2020200028.fig1a.jpeg\n",
            "/content/drive/My Drive/covid-chest-xray/images/ryct.2020200028.fig1a.jpeg\n",
            "radiol.2020200490.fig3.jpeg\n",
            "/content/drive/My Drive/data/covid/radiol.2020200490.fig3.jpeg\n",
            "/content/drive/My Drive/covid-chest-xray/images/radiol.2020200490.fig3.jpeg\n",
            "1-s2.0-S0929664620300449-gr2_lrg-a.jpg\n",
            "/content/drive/My Drive/data/covid/1-s2.0-S0929664620300449-gr2_lrg-a.jpg\n",
            "/content/drive/My Drive/covid-chest-xray/images/1-s2.0-S0929664620300449-gr2_lrg-a.jpg\n",
            "1-s2.0-S0929664620300449-gr2_lrg-b.jpg\n",
            "/content/drive/My Drive/data/covid/1-s2.0-S0929664620300449-gr2_lrg-b.jpg\n",
            "/content/drive/My Drive/covid-chest-xray/images/1-s2.0-S0929664620300449-gr2_lrg-b.jpg\n",
            "1-s2.0-S0929664620300449-gr2_lrg-c.jpg\n",
            "/content/drive/My Drive/data/covid/1-s2.0-S0929664620300449-gr2_lrg-c.jpg\n",
            "/content/drive/My Drive/covid-chest-xray/images/1-s2.0-S0929664620300449-gr2_lrg-c.jpg\n",
            "1-s2.0-S0929664620300449-gr2_lrg-d.jpg\n",
            "/content/drive/My Drive/data/covid/1-s2.0-S0929664620300449-gr2_lrg-d.jpg\n",
            "/content/drive/My Drive/covid-chest-xray/images/1-s2.0-S0929664620300449-gr2_lrg-d.jpg\n",
            "covid-19-pneumonia-15-PA.jpg\n",
            "/content/drive/My Drive/data/covid/covid-19-pneumonia-15-PA.jpg\n",
            "/content/drive/My Drive/covid-chest-xray/images/covid-19-pneumonia-15-PA.jpg\n",
            "covid-19-pneumonia-2.jpg\n",
            "/content/drive/My Drive/data/covid/covid-19-pneumonia-2.jpg\n",
            "/content/drive/My Drive/covid-chest-xray/images/covid-19-pneumonia-2.jpg\n",
            "covid-19-pneumonia-7-PA.jpg\n",
            "/content/drive/My Drive/data/covid/covid-19-pneumonia-7-PA.jpg\n",
            "/content/drive/My Drive/covid-chest-xray/images/covid-19-pneumonia-7-PA.jpg\n",
            "covid-19-pneumonia-14-PA.png\n",
            "/content/drive/My Drive/data/covid/covid-19-pneumonia-14-PA.png\n",
            "/content/drive/My Drive/covid-chest-xray/images/covid-19-pneumonia-14-PA.png\n",
            "covid-19-pneumonia-12.jpg\n",
            "/content/drive/My Drive/data/covid/covid-19-pneumonia-12.jpg\n",
            "/content/drive/My Drive/covid-chest-xray/images/covid-19-pneumonia-12.jpg\n",
            "7C69C012-7479-493F-8722-ABC29C60A2DD.jpeg\n",
            "/content/drive/My Drive/data/covid/7C69C012-7479-493F-8722-ABC29C60A2DD.jpeg\n",
            "/content/drive/My Drive/covid-chest-xray/images/7C69C012-7479-493F-8722-ABC29C60A2DD.jpeg\n",
            "8FDE8DBA-CFBD-4B4C-B1A4-6F36A93B7E87.jpeg\n",
            "/content/drive/My Drive/data/covid/8FDE8DBA-CFBD-4B4C-B1A4-6F36A93B7E87.jpeg\n",
            "/content/drive/My Drive/covid-chest-xray/images/8FDE8DBA-CFBD-4B4C-B1A4-6F36A93B7E87.jpeg\n",
            "9C34AF49-E589-44D5-92D3-168B3B04E4A6.jpeg\n",
            "/content/drive/My Drive/data/covid/9C34AF49-E589-44D5-92D3-168B3B04E4A6.jpeg\n",
            "/content/drive/My Drive/covid-chest-xray/images/9C34AF49-E589-44D5-92D3-168B3B04E4A6.jpeg\n",
            "F2DE909F-E19C-4900-92F5-8F435B031AC6.jpeg\n",
            "/content/drive/My Drive/data/covid/F2DE909F-E19C-4900-92F5-8F435B031AC6.jpeg\n",
            "/content/drive/My Drive/covid-chest-xray/images/F2DE909F-E19C-4900-92F5-8F435B031AC6.jpeg\n",
            "31BA3780-2323-493F-8AED-62081B9C383B.jpeg\n",
            "/content/drive/My Drive/data/covid/31BA3780-2323-493F-8AED-62081B9C383B.jpeg\n",
            "/content/drive/My Drive/covid-chest-xray/images/31BA3780-2323-493F-8AED-62081B9C383B.jpeg\n",
            "1312A392-67A3-4EBF-9319-810CF6DA5EF6.jpeg\n",
            "/content/drive/My Drive/data/covid/1312A392-67A3-4EBF-9319-810CF6DA5EF6.jpeg\n",
            "/content/drive/My Drive/covid-chest-xray/images/1312A392-67A3-4EBF-9319-810CF6DA5EF6.jpeg\n",
            "23E99E2E-447C-46E5-8EB2-D35D12473C39.png\n",
            "/content/drive/My Drive/data/covid/23E99E2E-447C-46E5-8EB2-D35D12473C39.png\n",
            "/content/drive/My Drive/covid-chest-xray/images/23E99E2E-447C-46E5-8EB2-D35D12473C39.png\n",
            "7AF6C1AF-D249-4BD2-8C26-449304105D03.jpeg\n",
            "/content/drive/My Drive/data/covid/7AF6C1AF-D249-4BD2-8C26-449304105D03.jpeg\n",
            "/content/drive/My Drive/covid-chest-xray/images/7AF6C1AF-D249-4BD2-8C26-449304105D03.jpeg\n",
            "1B734A89-A1BF-49A8-A1D3-66FAFA4FAC5D.jpeg\n",
            "/content/drive/My Drive/data/covid/1B734A89-A1BF-49A8-A1D3-66FAFA4FAC5D.jpeg\n",
            "/content/drive/My Drive/covid-chest-xray/images/1B734A89-A1BF-49A8-A1D3-66FAFA4FAC5D.jpeg\n",
            "CD50BA96-6982-4C80-AE7B-5F67ACDBFA56.jpeg\n",
            "/content/drive/My Drive/data/covid/CD50BA96-6982-4C80-AE7B-5F67ACDBFA56.jpeg\n",
            "/content/drive/My Drive/covid-chest-xray/images/CD50BA96-6982-4C80-AE7B-5F67ACDBFA56.jpeg\n",
            "85E52EB3-56E9-4D67-82DA-DEA247C82886.jpeg\n",
            "/content/drive/My Drive/data/covid/85E52EB3-56E9-4D67-82DA-DEA247C82886.jpeg\n",
            "/content/drive/My Drive/covid-chest-xray/images/85E52EB3-56E9-4D67-82DA-DEA247C82886.jpeg\n",
            "6CB4EFC6-68FA-4CD5-940C-BEFA8DAFE9A7.jpeg\n",
            "/content/drive/My Drive/data/covid/6CB4EFC6-68FA-4CD5-940C-BEFA8DAFE9A7.jpeg\n",
            "/content/drive/My Drive/covid-chest-xray/images/6CB4EFC6-68FA-4CD5-940C-BEFA8DAFE9A7.jpeg\n",
            "01E392EE-69F9-4E33-BFCE-E5C968654078.jpeg\n",
            "/content/drive/My Drive/data/covid/01E392EE-69F9-4E33-BFCE-E5C968654078.jpeg\n",
            "/content/drive/My Drive/covid-chest-xray/images/01E392EE-69F9-4E33-BFCE-E5C968654078.jpeg\n",
            "F63AB6CE-1968-4154-A70F-913AF154F53D.jpeg\n",
            "/content/drive/My Drive/data/covid/F63AB6CE-1968-4154-A70F-913AF154F53D.jpeg\n",
            "/content/drive/My Drive/covid-chest-xray/images/F63AB6CE-1968-4154-A70F-913AF154F53D.jpeg\n",
            "2C26F453-AF3B-4517-BB9E-802CF2179543.jpeg\n",
            "/content/drive/My Drive/data/covid/2C26F453-AF3B-4517-BB9E-802CF2179543.jpeg\n",
            "/content/drive/My Drive/covid-chest-xray/images/2C26F453-AF3B-4517-BB9E-802CF2179543.jpeg\n",
            "93FE0BB1-022D-4F24-9727-987A07975FFB.jpeg\n",
            "/content/drive/My Drive/data/covid/93FE0BB1-022D-4F24-9727-987A07975FFB.jpeg\n",
            "/content/drive/My Drive/covid-chest-xray/images/93FE0BB1-022D-4F24-9727-987A07975FFB.jpeg\n",
            "F4341CE7-73C9-45C6-99C8-8567A5484B63.jpeg\n",
            "/content/drive/My Drive/data/covid/F4341CE7-73C9-45C6-99C8-8567A5484B63.jpeg\n",
            "/content/drive/My Drive/covid-chest-xray/images/F4341CE7-73C9-45C6-99C8-8567A5484B63.jpeg\n",
            "E63574A7-4188-4C8D-8D17-9D67A18A1AFA.jpeg\n",
            "/content/drive/My Drive/data/covid/E63574A7-4188-4C8D-8D17-9D67A18A1AFA.jpeg\n",
            "/content/drive/My Drive/covid-chest-xray/images/E63574A7-4188-4C8D-8D17-9D67A18A1AFA.jpeg\n",
            "80446565-E090-4187-A031-9D3CEAA586C8.jpeg\n",
            "/content/drive/My Drive/data/covid/80446565-E090-4187-A031-9D3CEAA586C8.jpeg\n",
            "/content/drive/My Drive/covid-chest-xray/images/80446565-E090-4187-A031-9D3CEAA586C8.jpeg\n",
            "all14238-fig-0001-m-b.jpg\n",
            "/content/drive/My Drive/data/covid/all14238-fig-0001-m-b.jpg\n",
            "/content/drive/My Drive/covid-chest-xray/images/all14238-fig-0001-m-b.jpg\n",
            "all14238-fig-0001-m-c.jpg\n",
            "/content/drive/My Drive/data/covid/all14238-fig-0001-m-c.jpg\n",
            "/content/drive/My Drive/covid-chest-xray/images/all14238-fig-0001-m-c.jpg\n",
            "1-s2.0-S1684118220300608-main.pdf-001.jpg\n",
            "/content/drive/My Drive/data/covid/1-s2.0-S1684118220300608-main.pdf-001.jpg\n",
            "/content/drive/My Drive/covid-chest-xray/images/1-s2.0-S1684118220300608-main.pdf-001.jpg\n",
            "1-s2.0-S1684118220300608-main.pdf-002.jpg\n",
            "/content/drive/My Drive/data/covid/1-s2.0-S1684118220300608-main.pdf-002.jpg\n",
            "/content/drive/My Drive/covid-chest-xray/images/1-s2.0-S1684118220300608-main.pdf-002.jpg\n",
            "ciaa199.pdf-001-a.png\n",
            "/content/drive/My Drive/data/covid/ciaa199.pdf-001-a.png\n",
            "/content/drive/My Drive/covid-chest-xray/images/ciaa199.pdf-001-a.png\n",
            "ciaa199.pdf-001-b.png\n",
            "/content/drive/My Drive/data/covid/ciaa199.pdf-001-b.png\n",
            "/content/drive/My Drive/covid-chest-xray/images/ciaa199.pdf-001-b.png\n",
            "ciaa199.pdf-001-c.png\n",
            "/content/drive/My Drive/data/covid/ciaa199.pdf-001-c.png\n",
            "/content/drive/My Drive/covid-chest-xray/images/ciaa199.pdf-001-c.png\n",
            "kjr-21-e25-g001-l-a.jpg\n",
            "/content/drive/My Drive/data/covid/kjr-21-e25-g001-l-a.jpg\n",
            "/content/drive/My Drive/covid-chest-xray/images/kjr-21-e25-g001-l-a.jpg\n",
            "kjr-21-e24-g001-l-a.jpg\n",
            "/content/drive/My Drive/data/covid/kjr-21-e24-g001-l-a.jpg\n",
            "/content/drive/My Drive/covid-chest-xray/images/kjr-21-e24-g001-l-a.jpg\n",
            "kjr-21-e24-g002-l-a.jpg\n",
            "/content/drive/My Drive/data/covid/kjr-21-e24-g002-l-a.jpg\n",
            "/content/drive/My Drive/covid-chest-xray/images/kjr-21-e24-g002-l-a.jpg\n",
            "kjr-21-e24-g003-l-a.jpg\n",
            "/content/drive/My Drive/data/covid/kjr-21-e24-g003-l-a.jpg\n",
            "/content/drive/My Drive/covid-chest-xray/images/kjr-21-e24-g003-l-a.jpg\n",
            "1-s2.0-S1684118220300682-main.pdf-002-a1.png\n",
            "/content/drive/My Drive/data/covid/1-s2.0-S1684118220300682-main.pdf-002-a1.png\n",
            "/content/drive/My Drive/covid-chest-xray/images/1-s2.0-S1684118220300682-main.pdf-002-a1.png\n",
            "1-s2.0-S1684118220300682-main.pdf-002-a2.png\n",
            "/content/drive/My Drive/data/covid/1-s2.0-S1684118220300682-main.pdf-002-a2.png\n",
            "/content/drive/My Drive/covid-chest-xray/images/1-s2.0-S1684118220300682-main.pdf-002-a2.png\n",
            "1-s2.0-S1684118220300682-main.pdf-003-b1.png\n",
            "/content/drive/My Drive/data/covid/1-s2.0-S1684118220300682-main.pdf-003-b1.png\n",
            "/content/drive/My Drive/covid-chest-xray/images/1-s2.0-S1684118220300682-main.pdf-003-b1.png\n",
            "1-s2.0-S1684118220300682-main.pdf-003-b2.png\n",
            "/content/drive/My Drive/data/covid/1-s2.0-S1684118220300682-main.pdf-003-b2.png\n",
            "/content/drive/My Drive/covid-chest-xray/images/1-s2.0-S1684118220300682-main.pdf-003-b2.png\n",
            "gr1_lrg-a.jpg\n",
            "/content/drive/My Drive/data/covid/gr1_lrg-a.jpg\n",
            "/content/drive/My Drive/covid-chest-xray/images/gr1_lrg-a.jpg\n",
            "gr1_lrg-b.jpg\n",
            "/content/drive/My Drive/data/covid/gr1_lrg-b.jpg\n",
            "/content/drive/My Drive/covid-chest-xray/images/gr1_lrg-b.jpg\n",
            "FE9F9A5D-2830-46F9-851B-1FF4534959BE.jpeg\n",
            "/content/drive/My Drive/data/covid/FE9F9A5D-2830-46F9-851B-1FF4534959BE.jpeg\n",
            "/content/drive/My Drive/covid-chest-xray/images/FE9F9A5D-2830-46F9-851B-1FF4534959BE.jpeg\n",
            "41591_2020_819_Fig1_HTML.webp-day5.png\n",
            "/content/drive/My Drive/data/covid/41591_2020_819_Fig1_HTML.webp-day5.png\n",
            "/content/drive/My Drive/covid-chest-xray/images/41591_2020_819_Fig1_HTML.webp-day5.png\n",
            "41591_2020_819_Fig1_HTML.webp-day10.png\n",
            "/content/drive/My Drive/data/covid/41591_2020_819_Fig1_HTML.webp-day10.png\n",
            "/content/drive/My Drive/covid-chest-xray/images/41591_2020_819_Fig1_HTML.webp-day10.png\n",
            "covid-19-pneumonia-19.jpg\n",
            "/content/drive/My Drive/data/covid/covid-19-pneumonia-19.jpg\n",
            "/content/drive/My Drive/covid-chest-xray/images/covid-19-pneumonia-19.jpg\n"
          ],
          "name": "stdout"
        }
      ]
    },
    {
      "cell_type": "code",
      "metadata": {
        "id": "_2UNv7zR59dI",
        "colab_type": "code",
        "colab": {}
      },
      "source": [
        "# construct the path to the xrays\n",
        "xraysPath = \"/content/drive/My Drive/chest-xray-pneumonia/chest_xray\"\n"
      ],
      "execution_count": 0,
      "outputs": []
    },
    {
      "cell_type": "code",
      "metadata": {
        "id": "8d7eTJxN59gS",
        "colab_type": "code",
        "colab": {}
      },
      "source": [
        "from imutils import paths\n",
        "# construct the path to the metadata CSV file and load it\n",
        "basePath = os.path.sep.join([xraysPath, \"train\", \"NORMAL\"])\n",
        "imagePaths = list(paths.list_images(basePath))\n"
      ],
      "execution_count": 0,
      "outputs": []
    },
    {
      "cell_type": "code",
      "metadata": {
        "id": "4BRwyE6Y59cN",
        "colab_type": "code",
        "colab": {
          "base_uri": "https://localhost:8080/",
          "height": 34
        },
        "outputId": "0d2cf79f-0e77-4a4a-c3c1-c56f0204a23f"
      },
      "source": [
        "print (imagePath)"
      ],
      "execution_count": 15,
      "outputs": [
        {
          "output_type": "stream",
          "text": [
            "/content/drive/My Drive/covid-chest-xray/images/covid-19-pneumonia-19.jpg\n"
          ],
          "name": "stdout"
        }
      ]
    },
    {
      "cell_type": "code",
      "metadata": {
        "id": "MQOodCk2lLR4",
        "colab_type": "code",
        "colab": {}
      },
      "source": [
        "# randomly sample the image paths\n",
        "random.seed(580)\n",
        "random.shuffle(imagePaths)\n",
        "imagePaths = imagePaths[:samples]"
      ],
      "execution_count": 0,
      "outputs": []
    },
    {
      "cell_type": "code",
      "metadata": {
        "id": "9nzfwgQ0lLg2",
        "colab_type": "code",
        "colab": {}
      },
      "source": [
        "# loop over the image paths\n",
        "for (i, imagePath) in enumerate(imagePaths):\n",
        "    # extract the filename from the image path and then construct the\n",
        "    # path to the copied image file\n",
        "    filename = imagePath.split(os.path.sep)[-1]\n",
        "    outputPath = os.path.sep.join([f\"/content/drive/My Drive/data/normal\", filename])\n",
        "\n",
        "    # copy the image\n",
        "    shutil.copy2(imagePath, outputPath)"
      ],
      "execution_count": 0,
      "outputs": []
    },
    {
      "cell_type": "markdown",
      "metadata": {
        "id": "Lhl3qntSscX0",
        "colab_type": "text"
      },
      "source": [
        "Plot the xrays"
      ]
    },
    {
      "cell_type": "code",
      "metadata": {
        "id": "3sXhR29ilLuS",
        "colab_type": "code",
        "colab": {}
      },
      "source": [
        "# helper function to add the xrays in a grid\n",
        "def ceildiv(a, b):\n",
        "    return -(-a // b)"
      ],
      "execution_count": 0,
      "outputs": []
    },
    {
      "cell_type": "code",
      "metadata": {
        "id": "7vk_0eKF59ZR",
        "colab_type": "code",
        "colab": {}
      },
      "source": [
        "def plots_from_files(imspaths, figsize=(10,5), rows=1, titles=None, maintitle=None):\n",
        "    \"\"\"Plot the images in a grid\"\"\"\n",
        "    f = plt.figure(figsize=figsize)\n",
        "    if maintitle is not None: plt.suptitle(maintitle, fontsize=10)\n",
        "    for i in range(len(imspaths)):\n",
        "        sp = f.add_subplot(rows, ceildiv(len(imspaths), rows), i+1)\n",
        "        sp.axis('Off')\n",
        "        if titles is not None: sp.set_title(titles[i], fontsize=16)\n",
        "        img = plt.imread(imspaths[i])\n",
        "        plt.imshow(img)"
      ],
      "execution_count": 0,
      "outputs": []
    },
    {
      "cell_type": "code",
      "metadata": {
        "id": "SSoq7LottDm_",
        "colab_type": "code",
        "colab": {}
      },
      "source": [
        "normal_images = list(paths.list_images(f\"/content/drive/My Drive/data/normal\"))\n",
        "covid_images = list(paths.list_images(f\"/content/drive/My Drive/data/covid\"))"
      ],
      "execution_count": 0,
      "outputs": []
    },
    {
      "cell_type": "code",
      "metadata": {
        "id": "qNZJiySCtDwP",
        "colab_type": "code",
        "colab": {
          "base_uri": "https://localhost:8080/",
          "height": 34
        },
        "outputId": "39b8dd1b-3b70-46b8-dd91-f9f6d30f23d1"
      },
      "source": [
        "plots_from_files(normal_images, rows=5, maintitle=\"Normal X-ray images\")"
      ],
      "execution_count": 24,
      "outputs": [
        {
          "output_type": "display_data",
          "data": {
            "text/plain": [
              "<Figure size 720x360 with 0 Axes>"
            ]
          },
          "metadata": {
            "tags": []
          }
        }
      ]
    },
    {
      "cell_type": "code",
      "metadata": {
        "id": "QYKwHrU3tD2u",
        "colab_type": "code",
        "colab": {
          "base_uri": "https://localhost:8080/",
          "height": 336
        },
        "outputId": "26df85f5-35f1-4d2e-de21-f8e75afaed22"
      },
      "source": [
        "plots_from_files(covid_images, rows=5, maintitle=\"Covid-19 X-ray images\")"
      ],
      "execution_count": 25,
      "outputs": [
        {
          "output_type": "display_data",
          "data": {
            "image/png": "[encoded data removed]",
            "text/plain": [
              "<Figure size 720x360 with 69 Axes>"
            ]
          },
          "metadata": {
            "tags": [],
            "needs_background": "light"
          }
        }
      ]
    },
    {
      "cell_type": "code",
      "metadata": {
        "id": "7YPP2oHbtD-U",
        "colab_type": "code",
        "colab": {}
      },
      "source": [
        "# initialize the initial learning rate, number of epochs to train for,\n",
        "# and batch size\n",
        "INIT_LR = 1e-3\n",
        "EPOCHS = 10\n",
        "BS = 8"
      ],
      "execution_count": 0,
      "outputs": []
    },
    {
      "cell_type": "code",
      "metadata": {
        "id": "LYQfqRKWwt7C",
        "colab_type": "code",
        "colab": {
          "base_uri": "https://localhost:8080/",
          "height": 248
        },
        "outputId": "05629b52-a763-487a-c9bf-41bbc63663ee"
      },
      "source": [
        "# grab the list of images in our dataset directory, then initialize\n",
        "# the list of data (i.e., images) and class images\n",
        "print(\"[INFO] loading images...\")\n",
        "imagePaths = list(paths.list_images(dataset_path))\n",
        "data = []\n",
        "labels = []\n",
        "# loop over the image paths\n",
        "for imagePath in imagePaths:\n",
        "    # extract the class label from the filename\n",
        "    label = imagePath.split(os.path.sep)[-2]\n",
        "    # load the image, swap color channels, and resize it to be a fixed\n",
        "    # 224x224 pixels while ignoring aspect ratio\n",
        "    image = cv2.imread(imagePath)\n",
        "    image = cv2.cvtColor(image, cv2.COLOR_BGR2RGB)\n",
        "    image = cv2.resize(image, (224, 224))\n",
        "    # update the data and labels lists, respectively\n",
        "    data.append(image)\n",
        "    labels.append(label)\n",
        "# convert the data and labels to NumPy arrays while scaling the pixel\n",
        "# intensities to the range [0, 1]\n",
        "data = np.array(data) / 255.0\n",
        "labels = np.array(labels)"
      ],
      "execution_count": 56,
      "outputs": [
        {
          "output_type": "stream",
          "text": [
            "[INFO] loading images...\n"
          ],
          "name": "stdout"
        },
        {
          "output_type": "error",
          "ename": "NameError",
          "evalue": "ignored",
          "traceback": [
            "\u001b[0;31m---------------------------------------------------------------------------\u001b[0m",
            "\u001b[0;31mNameError\u001b[0m                                 Traceback (most recent call last)",
            "\u001b[0;32m<ipython-input-56-0d983194af46>\u001b[0m in \u001b[0;36m<module>\u001b[0;34m()\u001b[0m\n\u001b[1;32m      1\u001b[0m \u001b[0mprint\u001b[0m\u001b[0;34m(\u001b[0m\u001b[0;34m\"[INFO] loading images...\"\u001b[0m\u001b[0;34m)\u001b[0m\u001b[0;34m\u001b[0m\u001b[0;34m\u001b[0m\u001b[0m\n\u001b[0;32m----> 2\u001b[0;31m \u001b[0mimagePaths\u001b[0m \u001b[0;34m=\u001b[0m \u001b[0mlist\u001b[0m\u001b[0;34m(\u001b[0m\u001b[0mpaths\u001b[0m\u001b[0;34m.\u001b[0m\u001b[0mlist_images\u001b[0m\u001b[0;34m(\u001b[0m\u001b[0mdataset_path\u001b[0m\u001b[0;34m)\u001b[0m\u001b[0;34m)\u001b[0m\u001b[0;34m\u001b[0m\u001b[0;34m\u001b[0m\u001b[0m\n\u001b[0m\u001b[1;32m      3\u001b[0m \u001b[0mdata\u001b[0m \u001b[0;34m=\u001b[0m \u001b[0;34m[\u001b[0m\u001b[0;34m]\u001b[0m\u001b[0;34m\u001b[0m\u001b[0;34m\u001b[0m\u001b[0m\n\u001b[1;32m      4\u001b[0m \u001b[0mlabels\u001b[0m \u001b[0;34m=\u001b[0m \u001b[0;34m[\u001b[0m\u001b[0;34m]\u001b[0m\u001b[0;34m\u001b[0m\u001b[0;34m\u001b[0m\u001b[0m\n\u001b[1;32m      5\u001b[0m \u001b[0;31m# loop over the image paths\u001b[0m\u001b[0;34m\u001b[0m\u001b[0;34m\u001b[0m\u001b[0;34m\u001b[0m\u001b[0m\n",
            "\u001b[0;31mNameError\u001b[0m: name 'dataset_path' is not defined"
          ]
        }
      ]
    },
    {
      "cell_type": "code",
      "metadata": {
        "id": "Dgz45y1gwuDu",
        "colab_type": "code",
        "colab": {}
      },
      "source": [
        ""
      ],
      "execution_count": 0,
      "outputs": []
    },
    {
      "cell_type": "code",
      "metadata": {
        "id": "LdroFZQxwuNu",
        "colab_type": "code",
        "colab": {}
      },
      "source": [
        ""
      ],
      "execution_count": 0,
      "outputs": []
    },
    {
      "cell_type": "code",
      "metadata": {
        "id": "0BmKNvvfwuaW",
        "colab_type": "code",
        "colab": {}
      },
      "source": [
        ""
      ],
      "execution_count": 0,
      "outputs": []
    },
    {
      "cell_type": "code",
      "metadata": {
        "id": "SZsIvhc859RK",
        "colab_type": "code",
        "colab": {}
      },
      "source": [
        ""
      ],
      "execution_count": 0,
      "outputs": []
    },
    {
      "cell_type": "markdown",
      "metadata": {
        "id": "lhc5K8JQg1wA",
        "colab_type": "text"
      },
      "source": [
        "### Load the MNIST Handwriting Dataset from Keras"
      ]
    },
    {
      "cell_type": "code",
      "metadata": {
        "id": "DQCKc5Akg1wA",
        "colab_type": "code",
        "colab": {},
        "outputId": "d3849246-4c0a-4f53-b2da-95c46da74051"
      },
      "source": [
        "(X_train, y_train), (X_test, y_test) = mnist.load_data()\n",
        "print(\"Training Data Info\")\n",
        "print(\"Training Data Shape:\", X_train.shape)\n",
        "print(\"Training Data Labels Shape:\", y_train.shape)"
      ],
      "execution_count": 0,
      "outputs": [
        {
          "output_type": "stream",
          "text": [
            "Training Data Info\n",
            "Training Data Shape: (60000, 28, 28)\n",
            "Training Data Labels Shape: (60000,)\n"
          ],
          "name": "stdout"
        }
      ]
    },
    {
      "cell_type": "markdown",
      "metadata": {
        "id": "_AtsIZ_sg1wE",
        "colab_type": "text"
      },
      "source": [
        "### Plot the first digit"
      ]
    },
    {
      "cell_type": "code",
      "metadata": {
        "id": "2SPa1Cemg1wE",
        "colab_type": "code",
        "colab": {},
        "outputId": "438e40fe-f3bc-45dd-ca23-5d0fa4507cd2"
      },
      "source": [
        "# Plot the first image from the dataset\n",
        "plt.imshow(X_train[0,:,:], cmap=plt.cm.Greys)"
      ],
      "execution_count": 0,
      "outputs": [
        {
          "output_type": "execute_result",
          "data": {
            "text/plain": [
              "<matplotlib.image.AxesImage at 0x106268ef0>"
            ]
          },
          "metadata": {
            "tags": []
          },
          "execution_count": 6
        },
        {
          "output_type": "display_data",
          "data": {
            "image/png": "[encoded data removed]",
            "text/plain": [
              "<Figure size 432x288 with 1 Axes>"
            ]
          },
          "metadata": {
            "tags": []
          }
        }
      ]
    },
    {
      "cell_type": "markdown",
      "metadata": {
        "id": "SGgpOH47g1wJ",
        "colab_type": "text"
      },
      "source": [
        "### Each Image is a 28x28 Pixel greyscale image with values from 0 to 255"
      ]
    },
    {
      "cell_type": "code",
      "metadata": {
        "id": "yyoE6Q_og1wK",
        "colab_type": "code",
        "colab": {},
        "outputId": "1feb966f-b757-47fa-d1f8-16e509d9321e"
      },
      "source": [
        "# Our image is an array of pixels ranging from 0 to 255\n",
        "X_train[0, :, :]"
      ],
      "execution_count": 0,
      "outputs": [
        {
          "output_type": "execute_result",
          "data": {
            "text/plain": [
              "array([[  0,   0,   0,   0,   0,   0,   0,   0,   0,   0,   0,   0,   0,\n",
              "          0,   0,   0,   0,   0,   0,   0,   0,   0,   0,   0,   0,   0,\n",
              "          0,   0],\n",
              "       [  0,   0,   0,   0,   0,   0,   0,   0,   0,   0,   0,   0,   0,\n",
              "          0,   0,   0,   0,   0,   0,   0,   0,   0,   0,   0,   0,   0,\n",
              "          0,   0],\n",
              "       [  0,   0,   0,   0,   0,   0,   0,   0,   0,   0,   0,   0,   0,\n",
              "          0,   0,   0,   0,   0,   0,   0,   0,   0,   0,   0,   0,   0,\n",
              "          0,   0],\n",
              "       [  0,   0,   0,   0,   0,   0,   0,   0,   0,   0,   0,   0,   0,\n",
              "          0,   0,   0,   0,   0,   0,   0,   0,   0,   0,   0,   0,   0,\n",
              "          0,   0],\n",
              "       [  0,   0,   0,   0,   0,   0,   0,   0,   0,   0,   0,   0,   0,\n",
              "          0,   0,   0,   0,   0,   0,   0,   0,   0,   0,   0,   0,   0,\n",
              "          0,   0],\n",
              "       [  0,   0,   0,   0,   0,   0,   0,   0,   0,   0,   0,   0,   3,\n",
              "         18,  18,  18, 126, 136, 175,  26, 166, 255, 247, 127,   0,   0,\n",
              "          0,   0],\n",
              "       [  0,   0,   0,   0,   0,   0,   0,   0,  30,  36,  94, 154, 170,\n",
              "        253, 253, 253, 253, 253, 225, 172, 253, 242, 195,  64,   0,   0,\n",
              "          0,   0],\n",
              "       [  0,   0,   0,   0,   0,   0,   0,  49, 238, 253, 253, 253, 253,\n",
              "        253, 253, 253, 253, 251,  93,  82,  82,  56,  39,   0,   0,   0,\n",
              "          0,   0],\n",
              "       [  0,   0,   0,   0,   0,   0,   0,  18, 219, 253, 253, 253, 253,\n",
              "        253, 198, 182, 247, 241,   0,   0,   0,   0,   0,   0,   0,   0,\n",
              "          0,   0],\n",
              "       [  0,   0,   0,   0,   0,   0,   0,   0,  80, 156, 107, 253, 253,\n",
              "        205,  11,   0,  43, 154,   0,   0,   0,   0,   0,   0,   0,   0,\n",
              "          0,   0],\n",
              "       [  0,   0,   0,   0,   0,   0,   0,   0,   0,  14,   1, 154, 253,\n",
              "         90,   0,   0,   0,   0,   0,   0,   0,   0,   0,   0,   0,   0,\n",
              "          0,   0],\n",
              "       [  0,   0,   0,   0,   0,   0,   0,   0,   0,   0,   0, 139, 253,\n",
              "        190,   2,   0,   0,   0,   0,   0,   0,   0,   0,   0,   0,   0,\n",
              "          0,   0],\n",
              "       [  0,   0,   0,   0,   0,   0,   0,   0,   0,   0,   0,  11, 190,\n",
              "        253,  70,   0,   0,   0,   0,   0,   0,   0,   0,   0,   0,   0,\n",
              "          0,   0],\n",
              "       [  0,   0,   0,   0,   0,   0,   0,   0,   0,   0,   0,   0,  35,\n",
              "        241, 225, 160, 108,   1,   0,   0,   0,   0,   0,   0,   0,   0,\n",
              "          0,   0],\n",
              "       [  0,   0,   0,   0,   0,   0,   0,   0,   0,   0,   0,   0,   0,\n",
              "         81, 240, 253, 253, 119,  25,   0,   0,   0,   0,   0,   0,   0,\n",
              "          0,   0],\n",
              "       [  0,   0,   0,   0,   0,   0,   0,   0,   0,   0,   0,   0,   0,\n",
              "          0,  45, 186, 253, 253, 150,  27,   0,   0,   0,   0,   0,   0,\n",
              "          0,   0],\n",
              "       [  0,   0,   0,   0,   0,   0,   0,   0,   0,   0,   0,   0,   0,\n",
              "          0,   0,  16,  93, 252, 253, 187,   0,   0,   0,   0,   0,   0,\n",
              "          0,   0],\n",
              "       [  0,   0,   0,   0,   0,   0,   0,   0,   0,   0,   0,   0,   0,\n",
              "          0,   0,   0,   0, 249, 253, 249,  64,   0,   0,   0,   0,   0,\n",
              "          0,   0],\n",
              "       [  0,   0,   0,   0,   0,   0,   0,   0,   0,   0,   0,   0,   0,\n",
              "          0,  46, 130, 183, 253, 253, 207,   2,   0,   0,   0,   0,   0,\n",
              "          0,   0],\n",
              "       [  0,   0,   0,   0,   0,   0,   0,   0,   0,   0,   0,   0,  39,\n",
              "        148, 229, 253, 253, 253, 250, 182,   0,   0,   0,   0,   0,   0,\n",
              "          0,   0],\n",
              "       [  0,   0,   0,   0,   0,   0,   0,   0,   0,   0,  24, 114, 221,\n",
              "        253, 253, 253, 253, 201,  78,   0,   0,   0,   0,   0,   0,   0,\n",
              "          0,   0],\n",
              "       [  0,   0,   0,   0,   0,   0,   0,   0,  23,  66, 213, 253, 253,\n",
              "        253, 253, 198,  81,   2,   0,   0,   0,   0,   0,   0,   0,   0,\n",
              "          0,   0],\n",
              "       [  0,   0,   0,   0,   0,   0,  18, 171, 219, 253, 253, 253, 253,\n",
              "        195,  80,   9,   0,   0,   0,   0,   0,   0,   0,   0,   0,   0,\n",
              "          0,   0],\n",
              "       [  0,   0,   0,   0,  55, 172, 226, 253, 253, 253, 253, 244, 133,\n",
              "         11,   0,   0,   0,   0,   0,   0,   0,   0,   0,   0,   0,   0,\n",
              "          0,   0],\n",
              "       [  0,   0,   0,   0, 136, 253, 253, 253, 212, 135, 132,  16,   0,\n",
              "          0,   0,   0,   0,   0,   0,   0,   0,   0,   0,   0,   0,   0,\n",
              "          0,   0],\n",
              "       [  0,   0,   0,   0,   0,   0,   0,   0,   0,   0,   0,   0,   0,\n",
              "          0,   0,   0,   0,   0,   0,   0,   0,   0,   0,   0,   0,   0,\n",
              "          0,   0],\n",
              "       [  0,   0,   0,   0,   0,   0,   0,   0,   0,   0,   0,   0,   0,\n",
              "          0,   0,   0,   0,   0,   0,   0,   0,   0,   0,   0,   0,   0,\n",
              "          0,   0],\n",
              "       [  0,   0,   0,   0,   0,   0,   0,   0,   0,   0,   0,   0,   0,\n",
              "          0,   0,   0,   0,   0,   0,   0,   0,   0,   0,   0,   0,   0,\n",
              "          0,   0]], dtype=uint8)"
            ]
          },
          "metadata": {
            "tags": []
          },
          "execution_count": 7
        }
      ]
    },
    {
      "cell_type": "markdown",
      "metadata": {
        "id": "ddNhKMfOg1wN",
        "colab_type": "text"
      },
      "source": [
        "### For Logistic Regression, we want to flatten our data into rows of 1D image arrays"
      ]
    },
    {
      "cell_type": "code",
      "metadata": {
        "id": "pPVCyPcJg1wO",
        "colab_type": "code",
        "colab": {},
        "outputId": "9988346a-3b5c-4c40-8522-2fb0ee9d18e6"
      },
      "source": [
        "# We want to flatten our image of 28x28 pixels to a 1D array of 784 pixels\n",
        "ndims = X_train.shape[1] * X_train.shape[2]\n",
        "X_train = X_train.reshape(X_train.shape[0], ndims)\n",
        "X_test = X_test.reshape(X_test.shape[0], ndims)\n",
        "print(\"Training Shape:\", X_train.shape)\n",
        "print(\"Testing Shape:\", X_test.shape)"
      ],
      "execution_count": 0,
      "outputs": [
        {
          "output_type": "stream",
          "text": [
            "Training Shape: (60000, 784)\n",
            "Testing Shape: (10000, 784)\n"
          ],
          "name": "stdout"
        }
      ]
    },
    {
      "cell_type": "markdown",
      "metadata": {
        "id": "Kw6ZbrU_g1wQ",
        "colab_type": "text"
      },
      "source": [
        "## Scaling and Normalization\n",
        "\n",
        "We use Sklearn's MinMaxScaler to normalize our data between 0 and 1"
      ]
    },
    {
      "cell_type": "code",
      "metadata": {
        "id": "glJQc1brg1wR",
        "colab_type": "code",
        "colab": {}
      },
      "source": [
        "# Next, we normalize our training data to be between 0 and 1\n",
        "scaler = MinMaxScaler().fit(X_train)\n",
        "\n",
        "X_train = scaler.transform(X_train)\n",
        "X_test = scaler.transform(X_test)"
      ],
      "execution_count": 0,
      "outputs": []
    },
    {
      "cell_type": "code",
      "metadata": {
        "id": "TW-B-moRg1wU",
        "colab_type": "code",
        "colab": {}
      },
      "source": [
        "# Alternative way to normalize this dataset since we know that the max pixel value is 255\n",
        "# X_train = X_train.astype(\"float32\")\n",
        "# X_test = X_test.astype(\"float32\")\n",
        "# X_train /= 255.0\n",
        "# X_test /= 255.0"
      ],
      "execution_count": 0,
      "outputs": []
    },
    {
      "cell_type": "markdown",
      "metadata": {
        "id": "HSwhyl0ig1wa",
        "colab_type": "text"
      },
      "source": [
        "## One-Hot Encoding\n",
        "\n",
        "We need to one-hot encode our integer labels using the `to_categorical` helper function"
      ]
    },
    {
      "cell_type": "code",
      "metadata": {
        "id": "TUclcSDjg1wb",
        "colab_type": "code",
        "colab": {},
        "outputId": "fba4bffe-704a-4201-829b-1535ec2bfeb7"
      },
      "source": [
        "# Our Training and Testing labels are integer encoded from 0 to 9\n",
        "y_train[:20]"
      ],
      "execution_count": 0,
      "outputs": [
        {
          "output_type": "execute_result",
          "data": {
            "text/plain": [
              "array([5, 0, 4, 1, 9, 2, 1, 3, 1, 4, 3, 5, 3, 6, 1, 7, 2, 8, 6, 9],\n",
              "      dtype=uint8)"
            ]
          },
          "metadata": {
            "tags": []
          },
          "execution_count": 11
        }
      ]
    },
    {
      "cell_type": "code",
      "metadata": {
        "id": "waRYarjgg1wd",
        "colab_type": "code",
        "colab": {},
        "outputId": "304b39be-0e6d-4f37-834a-29e950446b16"
      },
      "source": [
        "# We need to convert our target labels (expected values) to categorical data\n",
        "num_classes = 10\n",
        "y_train = to_categorical(y_train, num_classes)\n",
        "y_test = to_categorical(y_test, num_classes)\n",
        "# Original label of `5` is one-hot encoded as `0000010000`\n",
        "y_train[0]"
      ],
      "execution_count": 0,
      "outputs": [
        {
          "output_type": "execute_result",
          "data": {
            "text/plain": [
              "array([0., 0., 0., 0., 0., 1., 0., 0., 0., 0.], dtype=float32)"
            ]
          },
          "metadata": {
            "tags": []
          },
          "execution_count": 12
        }
      ]
    },
    {
      "cell_type": "markdown",
      "metadata": {
        "id": "58t0ck6ng1wf",
        "colab_type": "text"
      },
      "source": [
        "## Building our Model\n",
        "\n",
        "In this example, we are going to build a Deep Multi-Layer Perceptron model with 2 hidden layers."
      ]
    },
    {
      "cell_type": "markdown",
      "metadata": {
        "id": "ZNdDQ9qXg1wg",
        "colab_type": "text"
      },
      "source": [
        "## Our first step is to create an empty sequential model"
      ]
    },
    {
      "cell_type": "code",
      "metadata": {
        "id": "JOdmhYlXg1wg",
        "colab_type": "code",
        "colab": {}
      },
      "source": [
        "# Create an empty sequential model\n",
        "model = Sequential()"
      ],
      "execution_count": 0,
      "outputs": []
    },
    {
      "cell_type": "markdown",
      "metadata": {
        "id": "D9I5_7Nug1wi",
        "colab_type": "text"
      },
      "source": [
        "## Next, we add our first hidden layer\n",
        "\n",
        "In the first hidden layer, we must also specify the dimension of our input layer. This will simply be the number of elements (pixels) in each image."
      ]
    },
    {
      "cell_type": "code",
      "metadata": {
        "id": "CW616Ptag1wj",
        "colab_type": "code",
        "colab": {}
      },
      "source": [
        "# Add the first layer where the input dimensions are the 784 pixel values\n",
        "# We can also choose our activation function. `relu` is a common\n",
        "model.add(Dense(100, activation='relu', input_dim=X_train.shape[1]))"
      ],
      "execution_count": 0,
      "outputs": []
    },
    {
      "cell_type": "markdown",
      "metadata": {
        "id": "vQQGutleg1wl",
        "colab_type": "text"
      },
      "source": [
        "## We then add a second hidden layer with 100 densely connected nodes\n",
        "\n",
        "A dense layer is when every node from the previous layer is connected to each node in the current layer."
      ]
    },
    {
      "cell_type": "code",
      "metadata": {
        "id": "d-2BQ2mZg1wl",
        "colab_type": "code",
        "colab": {}
      },
      "source": [
        "# Add a second hidden layer\n",
        "model.add(Dense(100, activation='relu'))"
      ],
      "execution_count": 0,
      "outputs": []
    },
    {
      "cell_type": "markdown",
      "metadata": {
        "id": "irlCPCjpg1wn",
        "colab_type": "text"
      },
      "source": [
        "## Our final output layer uses a `softmax` activation function for logistic regression.\n",
        "\n",
        "We also need to specify the number of output classes. In this case, the number of digits that we wish to classify."
      ]
    },
    {
      "cell_type": "code",
      "metadata": {
        "id": "sE7MW4Xtg1wo",
        "colab_type": "code",
        "colab": {}
      },
      "source": [
        "# Add our final output layer where the number of nodes \n",
        "# corresponds to the number of y labels\n",
        "model.add(Dense(num_classes, activation='softmax'))"
      ],
      "execution_count": 0,
      "outputs": []
    },
    {
      "cell_type": "markdown",
      "metadata": {
        "id": "dSiOrEc-g1wq",
        "colab_type": "text"
      },
      "source": [
        "## Compiling our Model"
      ]
    },
    {
      "cell_type": "code",
      "metadata": {
        "id": "cIHN00q-g1ws",
        "colab_type": "code",
        "colab": {}
      },
      "source": [
        "# Compile the model\n",
        "model.compile(loss=\"categorical_crossentropy\",\n",
        "              optimizer=\"adam\", metrics=['accuracy'])"
      ],
      "execution_count": 0,
      "outputs": []
    },
    {
      "cell_type": "markdown",
      "metadata": {
        "id": "2YC7HpoHg1wu",
        "colab_type": "text"
      },
      "source": [
        "## Model Summary"
      ]
    },
    {
      "cell_type": "code",
      "metadata": {
        "id": "g9N7TKDrg1wv",
        "colab_type": "code",
        "colab": {},
        "outputId": "e7381d84-fb55-4a54-8e5a-a1f715d467b8"
      },
      "source": [
        "# We can summarize our model\n",
        "model.summary()"
      ],
      "execution_count": 0,
      "outputs": [
        {
          "output_type": "stream",
          "text": [
            "_________________________________________________________________\n",
            "Layer (type)                 Output Shape              Param #   \n",
            "=================================================================\n",
            "dense (Dense)                (None, 100)               78500     \n",
            "_________________________________________________________________\n",
            "dense_1 (Dense)              (None, 100)               10100     \n",
            "_________________________________________________________________\n",
            "dense_2 (Dense)              (None, 10)                1010      \n",
            "=================================================================\n",
            "Total params: 89,610\n",
            "Trainable params: 89,610\n",
            "Non-trainable params: 0\n",
            "_________________________________________________________________\n"
          ],
          "name": "stdout"
        }
      ]
    },
    {
      "cell_type": "markdown",
      "metadata": {
        "id": "dMit19VEg1wx",
        "colab_type": "text"
      },
      "source": [
        "## Compile and Train our Model\n",
        "\n",
        "Now that we have our model architecture defined, we must compile the model using a loss function and optimizer. We can also specify additional training metrics such as accuracy."
      ]
    },
    {
      "cell_type": "code",
      "metadata": {
        "id": "O3q2Dx2eg1wx",
        "colab_type": "code",
        "colab": {}
      },
      "source": [
        "# Use categorical crossentropy for categorical data and mean squared error for regression\n",
        "# Hint: your output layer in this example is using software for logistic regression (categorical)\n",
        "# If your output layer activation was `linear` then you may want to use `mse` for loss\n",
        "model.compile(optimizer='adam', \n",
        "              loss='categorical_crossentropy', \n",
        "              metrics=['accuracy'])"
      ],
      "execution_count": 0,
      "outputs": []
    },
    {
      "cell_type": "markdown",
      "metadata": {
        "id": "fh7Z-S9Kg1w0",
        "colab_type": "text"
      },
      "source": [
        "## Finally, we train our model using our training data"
      ]
    },
    {
      "cell_type": "markdown",
      "metadata": {
        "id": "oXRhrOjIg1w0",
        "colab_type": "text"
      },
      "source": [
        "Training consists of updating our weights using our optimizer and loss function. In this example, we choose 10 iterations (loops) of training that are called epochs.\n",
        "\n",
        "We also choose to shuffle our training data and increase the detail printed out during each training cycle."
      ]
    },
    {
      "cell_type": "code",
      "metadata": {
        "id": "dDS-UTkmg1w0",
        "colab_type": "code",
        "colab": {},
        "outputId": "4954eb5c-d781-485a-e9c0-fe368b425367"
      },
      "source": [
        "# Fit (train) the model\n",
        "model.fit(\n",
        "    X_train,\n",
        "    y_train,\n",
        "    epochs=10,\n",
        "    shuffle=True,\n",
        "    verbose=2\n",
        ")"
      ],
      "execution_count": 0,
      "outputs": [
        {
          "output_type": "stream",
          "text": [
            "Epoch 1/10\n",
            " - 10s - loss: 0.2431 - acc: 0.9287\n",
            "Epoch 2/10\n",
            " - 9s - loss: 0.1052 - acc: 0.9684\n",
            "Epoch 3/10\n",
            " - 10s - loss: 0.0750 - acc: 0.9764\n",
            "Epoch 4/10\n",
            " - 9s - loss: 0.0569 - acc: 0.9827\n",
            "Epoch 5/10\n",
            " - 9s - loss: 0.0466 - acc: 0.9846\n",
            "Epoch 6/10\n",
            " - 9s - loss: 0.0380 - acc: 0.9879\n",
            "Epoch 7/10\n",
            " - 9s - loss: 0.0327 - acc: 0.9890\n",
            "Epoch 8/10\n",
            " - 8s - loss: 0.0274 - acc: 0.9910\n",
            "Epoch 9/10\n",
            " - 8s - loss: 0.0214 - acc: 0.9933\n",
            "Epoch 10/10\n",
            " - 8s - loss: 0.0211 - acc: 0.9930\n"
          ],
          "name": "stdout"
        },
        {
          "output_type": "execute_result",
          "data": {
            "text/plain": [
              "<tensorflow.python.keras.callbacks.History at 0x1a39308a58>"
            ]
          },
          "metadata": {
            "tags": []
          },
          "execution_count": 20
        }
      ]
    },
    {
      "cell_type": "markdown",
      "metadata": {
        "id": "Zoltgj3Og1w3",
        "colab_type": "text"
      },
      "source": [
        "## Saving and Loading models\n",
        "\n",
        "We can save our trained models using the HDF5 binary format with the extension `.h5`"
      ]
    },
    {
      "cell_type": "code",
      "metadata": {
        "id": "OlaG_hzGg1w4",
        "colab_type": "code",
        "colab": {}
      },
      "source": [
        "# Save the model\n",
        "model.save(\"mnist_trained.h5\")"
      ],
      "execution_count": 0,
      "outputs": []
    },
    {
      "cell_type": "code",
      "metadata": {
        "id": "LMcvKCYJg1w6",
        "colab_type": "code",
        "colab": {}
      },
      "source": [
        "# Load the model\n",
        "from tensorflow.keras.models import load_model\n",
        "model = load_model(\"mnist_trained.h5\")"
      ],
      "execution_count": 0,
      "outputs": []
    },
    {
      "cell_type": "markdown",
      "metadata": {
        "id": "BvmhdDOYg1w9",
        "colab_type": "text"
      },
      "source": [
        "## Evaluating the Model\n",
        "\n",
        "We use our testing data to validate our model. This is how we determine the validity of our model (i.e. the ability to predict new and previously unseen data points)"
      ]
    },
    {
      "cell_type": "code",
      "metadata": {
        "id": "QIStlkjvg1w-",
        "colab_type": "code",
        "colab": {},
        "outputId": "05c4a25f-055c-40a8-c78a-81cd04224d61"
      },
      "source": [
        "# Evaluate the model using the training data \n",
        "model_loss, model_accuracy = model.evaluate(X_test, y_test, verbose=2)\n",
        "print(f\"Loss: {model_loss}, Accuracy: {model_accuracy}\")"
      ],
      "execution_count": 0,
      "outputs": [
        {
          "output_type": "stream",
          "text": [
            "Loss: 0.0957128526122302, Accuracy: 0.9777\n"
          ],
          "name": "stdout"
        }
      ]
    },
    {
      "cell_type": "markdown",
      "metadata": {
        "id": "6eihugCCg1xB",
        "colab_type": "text"
      },
      "source": [
        "## Making Predictions\n",
        "\n",
        "We can use our trained model to make predictions using `model.predict`"
      ]
    },
    {
      "cell_type": "code",
      "metadata": {
        "id": "kuFY5rThg1xB",
        "colab_type": "code",
        "colab": {},
        "outputId": "ad632ee5-3ac0-450b-f0a6-3a05de1b4137"
      },
      "source": [
        "# Grab just one data point to test with\n",
        "test = np.expand_dims(X_train[0], axis=0)\n",
        "test.shape"
      ],
      "execution_count": 0,
      "outputs": [
        {
          "output_type": "execute_result",
          "data": {
            "text/plain": [
              "(1, 784)"
            ]
          },
          "metadata": {
            "tags": []
          },
          "execution_count": 24
        }
      ]
    },
    {
      "cell_type": "code",
      "metadata": {
        "id": "INeB4nLwg1xD",
        "colab_type": "code",
        "colab": {},
        "outputId": "4f419f1c-2748-4297-a4e7-ea7c7b81211d"
      },
      "source": [
        "plt.imshow(scaler.inverse_transform(test).reshape(28, 28), cmap=plt.cm.Greys)"
      ],
      "execution_count": 0,
      "outputs": [
        {
          "output_type": "execute_result",
          "data": {
            "text/plain": [
              "<matplotlib.image.AxesImage at 0x1a5eda30b8>"
            ]
          },
          "metadata": {
            "tags": []
          },
          "execution_count": 25
        },
        {
          "output_type": "display_data",
          "data": {
            "image/png": "[encoded data removed]",
            "text/plain": [
              "<Figure size 432x288 with 1 Axes>"
            ]
          },
          "metadata": {
            "tags": []
          }
        }
      ]
    },
    {
      "cell_type": "code",
      "metadata": {
        "id": "9fs1_eJpg1xG",
        "colab_type": "code",
        "colab": {},
        "outputId": "12f9d51c-51d9-4543-cb9c-5c532a283808"
      },
      "source": [
        "# Make a prediction. The result should be 0000010000000 for a 5\n",
        "model.predict(test).round()"
      ],
      "execution_count": 0,
      "outputs": [
        {
          "output_type": "execute_result",
          "data": {
            "text/plain": [
              "array([[0., 0., 0., 0., 0., 1., 0., 0., 0., 0.]], dtype=float32)"
            ]
          },
          "metadata": {
            "tags": []
          },
          "execution_count": 26
        }
      ]
    },
    {
      "cell_type": "code",
      "metadata": {
        "id": "-teW1UrAg1xI",
        "colab_type": "code",
        "colab": {},
        "outputId": "ad0b5eeb-5e6b-42ca-b3b6-78a0e81974e5"
      },
      "source": [
        "# Grab just one data point to test with\n",
        "test = np.expand_dims(X_train[2], axis=0)\n",
        "test.shape"
      ],
      "execution_count": 0,
      "outputs": [
        {
          "output_type": "execute_result",
          "data": {
            "text/plain": [
              "(1, 784)"
            ]
          },
          "metadata": {
            "tags": []
          },
          "execution_count": 27
        }
      ]
    },
    {
      "cell_type": "code",
      "metadata": {
        "id": "wkIJnYJDg1xM",
        "colab_type": "code",
        "colab": {},
        "outputId": "ff1c3108-9577-4af2-cb62-bff3b92c57ca"
      },
      "source": [
        "plt.imshow(scaler.inverse_transform(test).reshape(28, 28), cmap=plt.cm.Greys)"
      ],
      "execution_count": 0,
      "outputs": [
        {
          "output_type": "execute_result",
          "data": {
            "text/plain": [
              "<matplotlib.image.AxesImage at 0x1a5ee20438>"
            ]
          },
          "metadata": {
            "tags": []
          },
          "execution_count": 28
        },
        {
          "output_type": "display_data",
          "data": {
            "image/png": "[encoded data removed]",
            "text/plain": [
              "<Figure size 432x288 with 1 Axes>"
            ]
          },
          "metadata": {
            "tags": []
          }
        }
      ]
    },
    {
      "cell_type": "code",
      "metadata": {
        "id": "G7bsQnmsg1xP",
        "colab_type": "code",
        "colab": {},
        "outputId": "4352b8c9-14d5-4523-c10e-d084f6b0a44a"
      },
      "source": [
        "# Make a prediction. The resulting class should match the digit\n",
        "print(f\"One-Hot-Encoded Prediction: {model.predict(test).round()}\")\n",
        "print(f\"Predicted class: {model.predict_classes(test)}\")"
      ],
      "execution_count": 0,
      "outputs": [
        {
          "output_type": "stream",
          "text": [
            "One-Hot-Encoded Prediction: [[0. 0. 0. 0. 1. 0. 0. 0. 0. 0.]]\n",
            "Predicted class: [4]\n"
          ],
          "name": "stdout"
        }
      ]
    },
    {
      "cell_type": "markdown",
      "metadata": {
        "id": "NcCqo8X0g1xS",
        "colab_type": "text"
      },
      "source": [
        "# Import a Custom Image"
      ]
    },
    {
      "cell_type": "code",
      "metadata": {
        "id": "WaesARbmg1xS",
        "colab_type": "code",
        "colab": {}
      },
      "source": [
        "filepath = \"../Images/test8.png\""
      ],
      "execution_count": 0,
      "outputs": []
    },
    {
      "cell_type": "code",
      "metadata": {
        "id": "H9jUdAPag1xV",
        "colab_type": "code",
        "colab": {},
        "outputId": "729c68a1-7aa6-41ab-933b-d880dabb9d61"
      },
      "source": [
        "from tensorflow.keras.preprocessing import image\n",
        "image_size = (28, 28)\n",
        "im = image.load_img(filepath, target_size=image_size, color_mode=\"grayscale\")\n",
        "im"
      ],
      "execution_count": 0,
      "outputs": [
        {
          "output_type": "execute_result",
          "data": {
            "image/png": "[encoded data removed]",
            "text/plain": [
              "<PIL.Image.Image image mode=L size=28x28 at 0x1A5EE20898>"
            ]
          },
          "metadata": {
            "tags": []
          },
          "execution_count": 31
        }
      ]
    },
    {
      "cell_type": "code",
      "metadata": {
        "id": "yIu3YP49g1xa",
        "colab_type": "code",
        "colab": {},
        "outputId": "5896d2c4-1c4f-49c2-9d1f-03cc4d083c82"
      },
      "source": [
        "# Convert the image to a numpy array \n",
        "from tensorflow.keras.preprocessing.image import img_to_array\n",
        "image = img_to_array(im)\n",
        "image.shape"
      ],
      "execution_count": 0,
      "outputs": [
        {
          "output_type": "execute_result",
          "data": {
            "text/plain": [
              "(28, 28, 1)"
            ]
          },
          "metadata": {
            "tags": []
          },
          "execution_count": 32
        }
      ]
    },
    {
      "cell_type": "code",
      "metadata": {
        "id": "3z5d_6Vig1xe",
        "colab_type": "code",
        "colab": {},
        "outputId": "75a0bb07-64c8-4b07-b762-54356680cc05"
      },
      "source": [
        "# Scale the image pixels by 255 (or use a scaler from sklearn here)\n",
        "image /= 255\n",
        "\n",
        "# Flatten into a 1x28*28 array \n",
        "img = image.flatten().reshape(-1, 28*28)\n",
        "img.shape"
      ],
      "execution_count": 0,
      "outputs": [
        {
          "output_type": "execute_result",
          "data": {
            "text/plain": [
              "(1, 784)"
            ]
          },
          "metadata": {
            "tags": []
          },
          "execution_count": 33
        }
      ]
    },
    {
      "cell_type": "code",
      "metadata": {
        "id": "fsh_UAjFg1xh",
        "colab_type": "code",
        "colab": {},
        "outputId": "49ea1fba-6542-4444-9d95-c22f338e0df5"
      },
      "source": [
        "plt.imshow(img.reshape(28, 28), cmap=plt.cm.Greys)"
      ],
      "execution_count": 0,
      "outputs": [
        {
          "output_type": "execute_result",
          "data": {
            "text/plain": [
              "<matplotlib.image.AxesImage at 0x1a5efdeb70>"
            ]
          },
          "metadata": {
            "tags": []
          },
          "execution_count": 34
        },
        {
          "output_type": "display_data",
          "data": {
            "image/png": "[encoded data removed]",
            "text/plain": [
              "<Figure size 432x288 with 1 Axes>"
            ]
          },
          "metadata": {
            "tags": []
          }
        }
      ]
    },
    {
      "cell_type": "code",
      "metadata": {
        "id": "ZOzf8d9ig1xj",
        "colab_type": "code",
        "colab": {},
        "outputId": "6d60b1cf-eba9-47b6-ff50-773edc26f16b"
      },
      "source": [
        "# Invert the pixel values to match the original data\n",
        "img = 1 - img\n",
        "plt.imshow(img.reshape(28, 28), cmap=plt.cm.Greys)"
      ],
      "execution_count": 0,
      "outputs": [
        {
          "output_type": "execute_result",
          "data": {
            "text/plain": [
              "<matplotlib.image.AxesImage at 0x1a5f0f2588>"
            ]
          },
          "metadata": {
            "tags": []
          },
          "execution_count": 35
        },
        {
          "output_type": "display_data",
          "data": {
            "image/png": "[encoded data removed]",
            "text/plain": [
              "<Figure size 432x288 with 1 Axes>"
            ]
          },
          "metadata": {
            "tags": []
          }
        }
      ]
    },
    {
      "cell_type": "code",
      "metadata": {
        "id": "0aptbuG-g1xn",
        "colab_type": "code",
        "colab": {},
        "outputId": "0e3e2f86-834a-405f-a52d-06430d31c741"
      },
      "source": [
        "# Make predictions\n",
        "model.predict_classes(img)"
      ],
      "execution_count": 0,
      "outputs": [
        {
          "output_type": "execute_result",
          "data": {
            "text/plain": [
              "array([8])"
            ]
          },
          "metadata": {
            "tags": []
          },
          "execution_count": 36
        }
      ]
    }
  ]
}